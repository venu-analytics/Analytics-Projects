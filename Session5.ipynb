{
  "nbformat": 4,
  "nbformat_minor": 0,
  "metadata": {
    "colab": {
      "name": "Session5.ipynb",
      "provenance": [],
      "collapsed_sections": [],
      "include_colab_link": true
    },
    "kernelspec": {
      "name": "python3",
      "display_name": "Python 3"
    }
  },
  "cells": [
    {
      "cell_type": "markdown",
      "metadata": {
        "id": "view-in-github",
        "colab_type": "text"
      },
      "source": [
        "<a href=\"https://colab.research.google.com/github/venu-analytics/Analytics-Projects/blob/main/Session5.ipynb\" target=\"_parent\"><img src=\"https://colab.research.google.com/assets/colab-badge.svg\" alt=\"Open In Colab\"/></a>"
      ]
    },
    {
      "cell_type": "markdown",
      "metadata": {
        "id": "6wv3f93XxS6B"
      },
      "source": [
        "## Creating the RDDs from the data"
      ]
    },
    {
      "cell_type": "code",
      "metadata": {
        "id": "zgO7OIb6u9LD"
      },
      "source": [
        "# We need to import the \"urllib\" so that we can read the data directly from the URL\n",
        "import urllib"
      ],
      "execution_count": null,
      "outputs": []
    },
    {
      "cell_type": "code",
      "metadata": {
        "id": "l-TWXo6HvUYy"
      },
      "source": [
        "f=urllib.request.urlretrieve(\"http://kdd.ics.uci.edu/databases/kddcup99/kddcup.data_10_percent.gz\",\"kddcup.data_10_percent.gz\")"
      ],
      "execution_count": null,
      "outputs": []
    },
    {
      "cell_type": "markdown",
      "metadata": {
        "id": "wxTHhKcQzmvq"
      },
      "source": [
        "## Creating an RDD file "
      ]
    },
    {
      "cell_type": "code",
      "metadata": {
        "id": "4KegtbwTwHzb"
      },
      "source": [
        "data_file = \"./kddcup.data_10_percent.gz\""
      ],
      "execution_count": null,
      "outputs": []
    },
    {
      "cell_type": "code",
      "metadata": {
        "id": "YypmhFCxfxm_",
        "colab": {
          "base_uri": "https://localhost:8080/",
          "height": 4760
        },
        "outputId": "e1bddc0f-8846-4796-9a73-a25339610b3c"
      },
      "source": [
        "!apt-get update\n",
        "!apt-get install openjdk-8-jdk-headless -qq\n",
        "!wget -q http://apache.osuosl.org/spark/spark-2.2.1/spark-2.2.1-bin-hadoop2.7.tgz\n",
        "!tar xf spark-2.2.1-bin-hadoop2.7.tgz\n",
        "!pip install -q findspark"
      ],
      "execution_count": null,
      "outputs": [
        {
          "output_type": "stream",
          "text": [
            "Get:1 http://security.ubuntu.com/ubuntu artful-security InRelease [83.2 kB]\n",
            "Hit:2 http://archive.ubuntu.com/ubuntu artful InRelease\n",
            "Get:3 http://archive.ubuntu.com/ubuntu artful-updates InRelease [88.7 kB]\n",
            "Get:4 http://archive.ubuntu.com/ubuntu artful-backports InRelease [74.6 kB]\n",
            "Get:5 http://security.ubuntu.com/ubuntu artful-security/main amd64 Packages [237 kB]\n",
            "Get:6 http://archive.ubuntu.com/ubuntu artful-updates/universe amd64 Packages [150 kB]\n",
            "Get:7 http://archive.ubuntu.com/ubuntu artful-updates/main amd64 Packages [364 kB]\n",
            "Fetched 997 kB in 1s (784 kB/s)\n",
            "Reading package lists... Done\n",
            "Selecting previously unselected package libapparmor1:amd64.\n",
            "(Reading database ... 18396 files and directories currently installed.)\n",
            "Preparing to unpack .../00-libapparmor1_2.11.0-2ubuntu17.1_amd64.deb ...\n",
            "Unpacking libapparmor1:amd64 (2.11.0-2ubuntu17.1) ...\n",
            "Selecting previously unselected package libdbus-1-3:amd64.\n",
            "Preparing to unpack .../01-libdbus-1-3_1.10.22-1ubuntu1_amd64.deb ...\n",
            "Unpacking libdbus-1-3:amd64 (1.10.22-1ubuntu1) ...\n",
            "Selecting previously unselected package dbus.\n",
            "Preparing to unpack .../02-dbus_1.10.22-1ubuntu1_amd64.deb ...\n",
            "Unpacking dbus (1.10.22-1ubuntu1) ...\n",
            "Selecting previously unselected package java-common.\n",
            "Preparing to unpack .../03-java-common_0.59ubuntu1_all.deb ...\n",
            "Unpacking java-common (0.59ubuntu1) ...\n",
            "Selecting previously unselected package libavahi-common-data:amd64.\n",
            "Preparing to unpack .../04-libavahi-common-data_0.6.32-1ubuntu1.1_amd64.deb ...\n",
            "Unpacking libavahi-common-data:amd64 (0.6.32-1ubuntu1.1) ...\n",
            "Selecting previously unselected package libavahi-common3:amd64.\n",
            "Preparing to unpack .../05-libavahi-common3_0.6.32-1ubuntu1.1_amd64.deb ...\n",
            "Unpacking libavahi-common3:amd64 (0.6.32-1ubuntu1.1) ...\n",
            "Selecting previously unselected package libavahi-client3:amd64.\n",
            "Preparing to unpack .../06-libavahi-client3_0.6.32-1ubuntu1.1_amd64.deb ...\n",
            "Unpacking libavahi-client3:amd64 (0.6.32-1ubuntu1.1) ...\n",
            "Selecting previously unselected package libcups2:amd64.\n",
            "Preparing to unpack .../07-libcups2_2.2.4-7ubuntu3_amd64.deb ...\n",
            "Unpacking libcups2:amd64 (2.2.4-7ubuntu3) ...\n",
            "Selecting previously unselected package liblcms2-2:amd64.\n",
            "Preparing to unpack .../08-liblcms2-2_2.7-1ubuntu1_amd64.deb ...\n",
            "Unpacking liblcms2-2:amd64 (2.7-1ubuntu1) ...\n",
            "Selecting previously unselected package libnspr4:amd64.\n",
            "Preparing to unpack .../09-libnspr4_2%3a4.16-1ubuntu2_amd64.deb ...\n",
            "Unpacking libnspr4:amd64 (2:4.16-1ubuntu2) ...\n",
            "Selecting previously unselected package libnss3:amd64.\n",
            "Preparing to unpack .../10-libnss3_2%3a3.32-1ubuntu3_amd64.deb ...\n",
            "Unpacking libnss3:amd64 (2:3.32-1ubuntu3) ...\n",
            "Selecting previously unselected package libpcsclite1:amd64.\n",
            "Preparing to unpack .../11-libpcsclite1_1.8.22-1ubuntu1_amd64.deb ...\n",
            "Unpacking libpcsclite1:amd64 (1.8.22-1ubuntu1) ...\n",
            "Selecting previously unselected package libxi6:amd64.\n",
            "Preparing to unpack .../12-libxi6_2%3a1.7.9-1_amd64.deb ...\n",
            "Unpacking libxi6:amd64 (2:1.7.9-1) ...\n",
            "Selecting previously unselected package libxtst6:amd64.\n",
            "Preparing to unpack .../13-libxtst6_2%3a1.2.3-1_amd64.deb ...\n",
            "Unpacking libxtst6:amd64 (2:1.2.3-1) ...\n",
            "Selecting previously unselected package openjdk-8-jre-headless:amd64.\n",
            "Preparing to unpack .../14-openjdk-8-jre-headless_8u171-b11-0ubuntu0.17.10.1_amd64.deb ...\n",
            "Unpacking openjdk-8-jre-headless:amd64 (8u171-b11-0ubuntu0.17.10.1) ...\n",
            "Selecting previously unselected package ca-certificates-java.\n",
            "Preparing to unpack .../15-ca-certificates-java_20170930_all.deb ...\n",
            "Unpacking ca-certificates-java (20170930) ...\n",
            "Selecting previously unselected package openjdk-8-jdk-headless:amd64.\n",
            "Preparing to unpack .../16-openjdk-8-jdk-headless_8u171-b11-0ubuntu0.17.10.1_amd64.deb ...\n",
            "Unpacking openjdk-8-jdk-headless:amd64 (8u171-b11-0ubuntu0.17.10.1) ...\n",
            "Setting up libxi6:amd64 (2:1.7.9-1) ...\n",
            "Setting up liblcms2-2:amd64 (2.7-1ubuntu1) ...\n",
            "Setting up libpcsclite1:amd64 (1.8.22-1ubuntu1) ...\n",
            "Setting up java-common (0.59ubuntu1) ...\n",
            "Setting up libnspr4:amd64 (2:4.16-1ubuntu2) ...\n",
            "Setting up libxtst6:amd64 (2:1.2.3-1) ...\n",
            "Processing triggers for libc-bin (2.26-0ubuntu2.1) ...\n",
            "Setting up libapparmor1:amd64 (2.11.0-2ubuntu17.1) ...\n",
            "Processing triggers for ca-certificates (20170717) ...\n",
            "Updating certificates in /etc/ssl/certs...\n",
            "0 added, 0 removed; done.\n",
            "Running hooks in /etc/ca-certificates/update.d...\n",
            "done.\n",
            "Setting up libdbus-1-3:amd64 (1.10.22-1ubuntu1) ...\n",
            "Setting up libavahi-common-data:amd64 (0.6.32-1ubuntu1.1) ...\n",
            "Setting up libnss3:amd64 (2:3.32-1ubuntu3) ...\n",
            "Setting up libavahi-common3:amd64 (0.6.32-1ubuntu1.1) ...\n",
            "Setting up dbus (1.10.22-1ubuntu1) ...\n",
            "Setting up libavahi-client3:amd64 (0.6.32-1ubuntu1.1) ...\n",
            "Setting up libcups2:amd64 (2.2.4-7ubuntu3) ...\n"
          ],
          "name": "stdout"
        },
        {
          "output_type": "stream",
          "text": [
            "Setting up ca-certificates-java (20170930) ...\n",
            "Adding debian:AC_RAIZ_FNMT-RCM.pem\n",
            "Adding debian:Certum_Trusted_Network_CA.pem\n",
            "Adding debian:GeoTrust_Global_CA.pem\n",
            "Adding debian:Amazon_Root_CA_4.pem\n",
            "Adding debian:Staat_der_Nederlanden_EV_Root_CA.pem\n",
            "Adding debian:Swisscom_Root_CA_2.pem\n",
            "Adding debian:AffirmTrust_Networking.pem\n",
            "Adding debian:QuoVadis_Root_CA_2_G3.pem\n",
            "Adding debian:QuoVadis_Root_CA_3.pem\n",
            "Adding debian:OpenTrust_Root_CA_G2.pem\n",
            "Adding debian:CA_Disig_Root_R2.pem\n",
            "Adding debian:Entrust.net_Premium_2048_Secure_Server_CA.pem\n",
            "Adding debian:Comodo_AAA_Services_root.pem\n",
            "Adding debian:Global_Chambersign_Root_-_2008.pem\n",
            "Adding debian:GeoTrust_Global_CA_2.pem\n",
            "Adding debian:Hellenic_Academic_and_Research_Institutions_RootCA_2011.pem\n",
            "Adding debian:DigiCert_Global_Root_G3.pem\n",
            "Adding debian:Camerfirma_Global_Chambersign_Root.pem\n",
            "Adding debian:ISRG_Root_X1.pem\n",
            "Adding debian:DigiCert_Assured_ID_Root_CA.pem\n",
            "Adding debian:SwissSign_Silver_CA_-_G2.pem\n",
            "Adding debian:SecureSign_RootCA11.pem\n",
            "Adding debian:DST_ACES_CA_X6.pem\n",
            "Adding debian:TÜRKTRUST_Elektronik_Sertifika_Hizmet_Sağlayıcısı_H5.pem\n",
            "Adding debian:D-TRUST_Root_Class_3_CA_2_EV_2009.pem\n",
            "Adding debian:GlobalSign_ECC_Root_CA_-_R5.pem\n",
            "Adding debian:NetLock_Arany_=Class_Gold=_Főtanúsítvány.pem\n",
            "Adding debian:Sonera_Class_2_Root_CA.pem\n",
            "Adding debian:GeoTrust_Universal_CA.pem\n",
            "Adding debian:TURKTRUST_Certificate_Services_Provider_Root_2007.pem\n",
            "Adding debian:Amazon_Root_CA_3.pem\n",
            "Adding debian:COMODO_Certification_Authority.pem\n",
            "Adding debian:Camerfirma_Chambers_of_Commerce_Root.pem\n",
            "Adding debian:TWCA_Root_Certification_Authority.pem\n",
            "Adding debian:OpenTrust_Root_CA_G3.pem\n",
            "Adding debian:Security_Communication_Root_CA.pem\n",
            "Adding debian:Starfield_Class_2_CA.pem\n",
            "Adding debian:GlobalSign_Root_CA.pem\n",
            "Adding debian:QuoVadis_Root_CA.pem\n",
            "Adding debian:AffirmTrust_Premium.pem\n",
            "Adding debian:SecureTrust_CA.pem\n",
            "Adding debian:GeoTrust_Primary_Certification_Authority_-_G3.pem\n",
            "Adding debian:Deutsche_Telekom_Root_CA_2.pem\n",
            "Adding debian:thawte_Primary_Root_CA_-_G2.pem\n",
            "Adding debian:Security_Communication_EV_RootCA1.pem\n",
            "Adding debian:Secure_Global_CA.pem\n",
            "Adding debian:OISTE_WISeKey_Global_Root_GB_CA.pem\n",
            "Adding debian:AddTrust_External_Root.pem\n",
            "Adding debian:Swisscom_Root_EV_CA_2.pem\n",
            "Adding debian:Certinomis_-_Root_CA.pem\n",
            "Adding debian:Go_Daddy_Root_Certificate_Authority_-_G2.pem\n",
            "Adding debian:DigiCert_High_Assurance_EV_Root_CA.pem\n",
            "Adding debian:Trustis_FPS_Root_CA.pem\n",
            "Adding debian:Certigna.pem\n",
            "Adding debian:Baltimore_CyberTrust_Root.pem\n",
            "Adding debian:Taiwan_GRCA.pem\n",
            "Adding debian:CNNIC_ROOT.pem\n",
            "Adding debian:E-Tugra_Certification_Authority.pem\n",
            "Adding debian:Verisign_Class_3_Public_Primary_Certification_Authority_-_G3.pem\n",
            "Adding debian:China_Internet_Network_Information_Center_EV_Certificates_Root.pem\n",
            "Adding debian:PSCProcert.pem\n",
            "Adding debian:AddTrust_Low-Value_Services_Root.pem\n",
            "Adding debian:GlobalSign_ECC_Root_CA_-_R4.pem\n",
            "Adding debian:Atos_TrustedRoot_2011.pem\n",
            "Adding debian:GlobalSign_Root_CA_-_R2.pem\n",
            "Adding debian:Amazon_Root_CA_1.pem\n",
            "Adding debian:GeoTrust_Primary_Certification_Authority_-_G2.pem\n",
            "Adding debian:USERTrust_RSA_Certification_Authority.pem\n",
            "Adding debian:QuoVadis_Root_CA_3_G3.pem\n",
            "Adding debian:thawte_Primary_Root_CA.pem\n",
            "Adding debian:ePKI_Root_Certification_Authority.pem\n",
            "Adding debian:AffirmTrust_Commercial.pem\n",
            "Adding debian:Staat_der_Nederlanden_Root_CA_-_G3.pem\n",
            "Adding debian:Izenpe.com.pem\n",
            "Adding debian:Amazon_Root_CA_2.pem\n",
            "Adding debian:Actalis_Authentication_Root_CA.pem\n",
            "Adding debian:Comodo_Secure_Services_root.pem\n",
            "Adding debian:UTN_USERFirst_Hardware_Root_CA.pem\n",
            "Adding debian:Swisscom_Root_CA_1.pem\n",
            "Adding debian:Certum_Root_CA.pem\n",
            "Adding debian:Go_Daddy_Class_2_CA.pem\n",
            "Adding debian:T-TeleSec_GlobalRoot_Class_3.pem\n",
            "Adding debian:Certum_Trusted_Network_CA_2.pem\n",
            "Adding debian:USERTrust_ECC_Certification_Authority.pem\n",
            "Adding debian:thawte_Primary_Root_CA_-_G3.pem\n",
            "Adding debian:Staat_der_Nederlanden_Root_CA_-_G2.pem\n",
            "Adding debian:TWCA_Global_Root_CA.pem\n",
            "Adding debian:Security_Communication_RootCA2.pem\n",
            "Adding debian:GeoTrust_Primary_Certification_Authority.pem\n",
            "Adding debian:VeriSign_Class_3_Public_Primary_Certification_Authority_-_G5.pem\n",
            "Adding debian:Starfield_Root_Certificate_Authority_-_G2.pem\n",
            "Adding debian:Certplus_Class_2_Primary_CA.pem\n",
            "Adding debian:CFCA_EV_ROOT.pem\n",
            "Adding debian:EC-ACC.pem\n",
            "Adding debian:LuxTrust_Global_Root_2.pem\n",
            "Adding debian:SwissSign_Gold_CA_-_G2.pem\n",
            "Adding debian:Hongkong_Post_Root_CA_1.pem\n",
            "Adding debian:ACCVRAIZ1.pem\n",
            "Adding debian:AffirmTrust_Premium_ECC.pem\n",
            "Adding debian:OISTE_WISeKey_Global_Root_GA_CA.pem\n",
            "Adding debian:Buypass_Class_2_Root_CA.pem\n",
            "Adding debian:IdenTrust_Public_Sector_Root_CA_1.pem\n",
            "Adding debian:VeriSign_Universal_Root_Certification_Authority.pem\n",
            "Adding debian:VeriSign_Class_3_Public_Primary_Certification_Authority_-_G4.pem\n",
            "Adding debian:OpenTrust_Root_CA_G1.pem\n",
            "Adding debian:Network_Solutions_Certificate_Authority.pem\n",
            "Adding debian:ACEDICOM_Root.pem\n",
            "Adding debian:Starfield_Services_Root_Certificate_Authority_-_G2.pem\n",
            "Adding debian:D-TRUST_Root_Class_3_CA_2_2009.pem\n",
            "Adding debian:T-TeleSec_GlobalRoot_Class_2.pem\n",
            "Adding debian:GeoTrust_Universal_CA_2.pem\n",
            "Adding debian:DigiCert_Trusted_Root_G4.pem\n",
            "Adding debian:AddTrust_Qualified_Certificates_Root.pem\n",
            "Adding debian:EE_Certification_Centre_Root_CA.pem\n",
            "Adding debian:XRamp_Global_CA_Root.pem\n",
            "Adding debian:DigiCert_Global_Root_CA.pem\n",
            "Adding debian:GlobalSign_Root_CA_-_R3.pem\n",
            "Adding debian:Chambers_of_Commerce_Root_-_2008.pem\n",
            "Adding debian:Visa_eCommerce_Root.pem\n",
            "Adding debian:DST_Root_CA_X3.pem\n",
            "Adding debian:Certplus_Root_CA_G1.pem\n",
            "Adding debian:Certinomis_-_Autorité_Racine.pem\n",
            "Adding debian:SZAFIR_ROOT_CA2.pem\n",
            "Adding debian:DigiCert_Assured_ID_Root_G2.pem\n",
            "Adding debian:TUBITAK_Kamu_SM_SSL_Kok_Sertifikasi_-_Surum_1.pem\n",
            "Adding debian:Hellenic_Academic_and_Research_Institutions_ECC_RootCA_2015.pem\n",
            "Adding debian:QuoVadis_Root_CA_2.pem\n",
            "Adding debian:COMODO_RSA_Certification_Authority.pem\n"
          ],
          "name": "stdout"
        },
        {
          "output_type": "stream",
          "text": [
            "Adding debian:Hellenic_Academic_and_Research_Institutions_RootCA_2015.pem\r\n",
            "Adding debian:Microsec_e-Szigno_Root_CA_2009.pem\r\n",
            "Adding debian:DigiCert_Global_Root_G2.pem\r\n",
            "Adding debian:Autoridad_de_Certificacion_Firmaprofesional_CIF_A62634068.pem\r\n",
            "Adding debian:AddTrust_Public_Services_Root.pem\n",
            "Adding debian:Entrust_Root_Certification_Authority_-_EC1.pem\n",
            "Adding debian:TÜBİTAK_UEKAE_Kök_Sertifika_Hizmet_Sağlayıcısı_-_Sürüm_3.pem\n",
            "Adding debian:Comodo_Trusted_Services_root.pem\n",
            "Adding debian:Certplus_Root_CA_G2.pem\n",
            "Adding debian:DigiCert_Assured_ID_Root_G3.pem\n",
            "Adding debian:Buypass_Class_3_Root_CA.pem\n",
            "Adding debian:Entrust_Root_Certification_Authority_-_G2.pem\n",
            "Adding debian:Cybertrust_Global_Root.pem\n",
            "Adding debian:TeliaSonera_Root_CA_v1.pem\n",
            "Adding debian:CA_Disig_Root_R1.pem\n",
            "Adding debian:QuoVadis_Root_CA_1_G3.pem\n",
            "Adding debian:COMODO_ECC_Certification_Authority.pem\n",
            "Adding debian:IdenTrust_Commercial_Root_CA_1.pem\n",
            "Adding debian:Entrust_Root_Certification_Authority.pem\n",
            "Adding debian:certSIGN_ROOT_CA.pem\n",
            "done.\n",
            "Setting up openjdk-8-jre-headless:amd64 (8u171-b11-0ubuntu0.17.10.1) ...\n",
            "update-alternatives: using /usr/lib/jvm/java-8-openjdk-amd64/jre/bin/rmid to provide /usr/bin/rmid (rmid) in auto mode\n",
            "update-alternatives: using /usr/lib/jvm/java-8-openjdk-amd64/jre/bin/java to provide /usr/bin/java (java) in auto mode\n",
            "update-alternatives: using /usr/lib/jvm/java-8-openjdk-amd64/jre/bin/keytool to provide /usr/bin/keytool (keytool) in auto mode\n",
            "update-alternatives: using /usr/lib/jvm/java-8-openjdk-amd64/jre/bin/jjs to provide /usr/bin/jjs (jjs) in auto mode\n",
            "update-alternatives: using /usr/lib/jvm/java-8-openjdk-amd64/jre/bin/pack200 to provide /usr/bin/pack200 (pack200) in auto mode\n",
            "update-alternatives: using /usr/lib/jvm/java-8-openjdk-amd64/jre/bin/rmiregistry to provide /usr/bin/rmiregistry (rmiregistry) in auto mode\n",
            "update-alternatives: using /usr/lib/jvm/java-8-openjdk-amd64/jre/bin/unpack200 to provide /usr/bin/unpack200 (unpack200) in auto mode\n",
            "update-alternatives: using /usr/lib/jvm/java-8-openjdk-amd64/jre/bin/orbd to provide /usr/bin/orbd (orbd) in auto mode\n",
            "update-alternatives: using /usr/lib/jvm/java-8-openjdk-amd64/jre/bin/servertool to provide /usr/bin/servertool (servertool) in auto mode\n",
            "update-alternatives: using /usr/lib/jvm/java-8-openjdk-amd64/jre/bin/tnameserv to provide /usr/bin/tnameserv (tnameserv) in auto mode\n",
            "update-alternatives: using /usr/lib/jvm/java-8-openjdk-amd64/jre/lib/jexec to provide /usr/bin/jexec (jexec) in auto mode\n",
            "Setting up openjdk-8-jdk-headless:amd64 (8u171-b11-0ubuntu0.17.10.1) ...\n",
            "update-alternatives: using /usr/lib/jvm/java-8-openjdk-amd64/bin/idlj to provide /usr/bin/idlj (idlj) in auto mode\n",
            "update-alternatives: using /usr/lib/jvm/java-8-openjdk-amd64/bin/jdeps to provide /usr/bin/jdeps (jdeps) in auto mode\n",
            "update-alternatives: using /usr/lib/jvm/java-8-openjdk-amd64/bin/wsimport to provide /usr/bin/wsimport (wsimport) in auto mode\n",
            "update-alternatives: using /usr/lib/jvm/java-8-openjdk-amd64/bin/jinfo to provide /usr/bin/jinfo (jinfo) in auto mode\n",
            "update-alternatives: using /usr/lib/jvm/java-8-openjdk-amd64/bin/jsadebugd to provide /usr/bin/jsadebugd (jsadebugd) in auto mode\n",
            "update-alternatives: using /usr/lib/jvm/java-8-openjdk-amd64/bin/native2ascii to provide /usr/bin/native2ascii (native2ascii) in auto mode\n",
            "update-alternatives: using /usr/lib/jvm/java-8-openjdk-amd64/bin/jstat to provide /usr/bin/jstat (jstat) in auto mode\n",
            "update-alternatives: using /usr/lib/jvm/java-8-openjdk-amd64/bin/javac to provide /usr/bin/javac (javac) in auto mode\n",
            "update-alternatives: using /usr/lib/jvm/java-8-openjdk-amd64/bin/javah to provide /usr/bin/javah (javah) in auto mode\n",
            "update-alternatives: using /usr/lib/jvm/java-8-openjdk-amd64/bin/jstack to provide /usr/bin/jstack (jstack) in auto mode\n",
            "update-alternatives: using /usr/lib/jvm/java-8-openjdk-amd64/bin/jrunscript to provide /usr/bin/jrunscript (jrunscript) in auto mode\n",
            "update-alternatives: using /usr/lib/jvm/java-8-openjdk-amd64/bin/javadoc to provide /usr/bin/javadoc (javadoc) in auto mode\n",
            "update-alternatives: using /usr/lib/jvm/java-8-openjdk-amd64/bin/javap to provide /usr/bin/javap (javap) in auto mode\n",
            "update-alternatives: using /usr/lib/jvm/java-8-openjdk-amd64/bin/jar to provide /usr/bin/jar (jar) in auto mode\n",
            "update-alternatives: using /usr/lib/jvm/java-8-openjdk-amd64/bin/xjc to provide /usr/bin/xjc (xjc) in auto mode\n",
            "update-alternatives: using /usr/lib/jvm/java-8-openjdk-amd64/bin/schemagen to provide /usr/bin/schemagen (schemagen) in auto mode\n",
            "update-alternatives: using /usr/lib/jvm/java-8-openjdk-amd64/bin/jps to provide /usr/bin/jps (jps) in auto mode\n",
            "update-alternatives: using /usr/lib/jvm/java-8-openjdk-amd64/bin/extcheck to provide /usr/bin/extcheck (extcheck) in auto mode\n",
            "update-alternatives: using /usr/lib/jvm/java-8-openjdk-amd64/bin/rmic to provide /usr/bin/rmic (rmic) in auto mode\n",
            "update-alternatives: using /usr/lib/jvm/java-8-openjdk-amd64/bin/jstatd to provide /usr/bin/jstatd (jstatd) in auto mode\n",
            "update-alternatives: using /usr/lib/jvm/java-8-openjdk-amd64/bin/jhat to provide /usr/bin/jhat (jhat) in auto mode\n",
            "update-alternatives: using /usr/lib/jvm/java-8-openjdk-amd64/bin/jdb to provide /usr/bin/jdb (jdb) in auto mode\n",
            "update-alternatives: using /usr/lib/jvm/java-8-openjdk-amd64/bin/serialver to provide /usr/bin/serialver (serialver) in auto mode\n",
            "update-alternatives: using /usr/lib/jvm/java-8-openjdk-amd64/bin/wsgen to provide /usr/bin/wsgen (wsgen) in auto mode\n",
            "update-alternatives: using /usr/lib/jvm/java-8-openjdk-amd64/bin/jcmd to provide /usr/bin/jcmd (jcmd) in auto mode\n",
            "update-alternatives: using /usr/lib/jvm/java-8-openjdk-amd64/bin/jarsigner to provide /usr/bin/jarsigner (jarsigner) in auto mode\n",
            "update-alternatives: using /usr/lib/jvm/java-8-openjdk-amd64/bin/jmap to provide /usr/bin/jmap (jmap) in auto mode\n",
            "Processing triggers for libc-bin (2.26-0ubuntu2.1) ...\n",
            "Processing triggers for ca-certificates (20170717) ...\n",
            "Updating certificates in /etc/ssl/certs...\n",
            "0 added, 0 removed; done.\n",
            "Running hooks in /etc/ca-certificates/update.d...\n",
            "\n",
            "done.\n",
            "done.\n"
          ],
          "name": "stdout"
        }
      ]
    },
    {
      "cell_type": "code",
      "metadata": {
        "id": "DoODQp8Vy7Ee"
      },
      "source": [
        "import os\n",
        "os.environ[\"JAVA_HOME\"] = \"/usr/lib/jvm/java-8-openjdk-amd64\"\n",
        "os.environ[\"SPARK_HOME\"] = \"/content/spark-2.2.1-bin-hadoop2.7\""
      ],
      "execution_count": null,
      "outputs": []
    },
    {
      "cell_type": "code",
      "metadata": {
        "id": "LdJz1sFAy1Nf"
      },
      "source": [
        "import findspark\n",
        "findspark.init()\n",
        "from pyspark.sql import SparkSession\n",
        "spark = SparkSession.builder.master(\"local[*]\").getOrCreate()"
      ],
      "execution_count": null,
      "outputs": []
    },
    {
      "cell_type": "code",
      "metadata": {
        "id": "42hFHBWmyjsk"
      },
      "source": [
        "sc = spark.sparkContext"
      ],
      "execution_count": null,
      "outputs": []
    },
    {
      "cell_type": "code",
      "metadata": {
        "id": "EDOyLIiuxkhE"
      },
      "source": [
        "raw_data = sc.textFile(data_file)"
      ],
      "execution_count": null,
      "outputs": []
    },
    {
      "cell_type": "code",
      "metadata": {
        "id": "Dx2MYDLNycII",
        "colab": {
          "base_uri": "https://localhost:8080/",
          "height": 34
        },
        "outputId": "0b7d066d-0142-4daf-b0fd-921d737cdd7b"
      },
      "source": [
        "raw_data.count()"
      ],
      "execution_count": null,
      "outputs": [
        {
          "output_type": "execute_result",
          "data": {
            "text/plain": [
              "494021"
            ]
          },
          "metadata": {
            "tags": []
          },
          "execution_count": 11
        }
      ]
    },
    {
      "cell_type": "code",
      "metadata": {
        "id": "hnSEx7hRzVDF",
        "colab": {
          "base_uri": "https://localhost:8080/",
          "height": 102
        },
        "outputId": "2cf07659-a5cc-4b4d-a962-5538b57e3b07"
      },
      "source": [
        "raw_data.take(5)"
      ],
      "execution_count": null,
      "outputs": [
        {
          "output_type": "execute_result",
          "data": {
            "text/plain": [
              "['0,tcp,http,SF,181,5450,0,0,0,0,0,1,0,0,0,0,0,0,0,0,0,0,8,8,0.00,0.00,0.00,0.00,1.00,0.00,0.00,9,9,1.00,0.00,0.11,0.00,0.00,0.00,0.00,0.00,normal.',\n",
              " '0,tcp,http,SF,239,486,0,0,0,0,0,1,0,0,0,0,0,0,0,0,0,0,8,8,0.00,0.00,0.00,0.00,1.00,0.00,0.00,19,19,1.00,0.00,0.05,0.00,0.00,0.00,0.00,0.00,normal.',\n",
              " '0,tcp,http,SF,235,1337,0,0,0,0,0,1,0,0,0,0,0,0,0,0,0,0,8,8,0.00,0.00,0.00,0.00,1.00,0.00,0.00,29,29,1.00,0.00,0.03,0.00,0.00,0.00,0.00,0.00,normal.',\n",
              " '0,tcp,http,SF,219,1337,0,0,0,0,0,1,0,0,0,0,0,0,0,0,0,0,6,6,0.00,0.00,0.00,0.00,1.00,0.00,0.00,39,39,1.00,0.00,0.03,0.00,0.00,0.00,0.00,0.00,normal.',\n",
              " '0,tcp,http,SF,217,2032,0,0,0,0,0,1,0,0,0,0,0,0,0,0,0,0,6,6,0.00,0.00,0.00,0.00,1.00,0.00,0.00,49,49,1.00,0.00,0.02,0.00,0.00,0.00,0.00,0.00,normal.']"
            ]
          },
          "metadata": {
            "tags": []
          },
          "execution_count": 12
        }
      ]
    },
    {
      "cell_type": "code",
      "metadata": {
        "id": "wwK09c-9zc7b"
      },
      "source": [
        "# Filtering the data"
      ],
      "execution_count": null,
      "outputs": []
    },
    {
      "cell_type": "code",
      "metadata": {
        "id": "oGCsbwE31rxw"
      },
      "source": [
        "normal_raw_data = raw_data.filter(lambda x: \"normal.\" in x)\n"
      ],
      "execution_count": null,
      "outputs": []
    },
    {
      "cell_type": "code",
      "metadata": {
        "id": "KGwhiLi63nAW",
        "colab": {
          "base_uri": "https://localhost:8080/",
          "height": 34
        },
        "outputId": "f7101bfd-08ce-44e6-86a9-2d8a44114140"
      },
      "source": [
        "normal_raw_data.count()"
      ],
      "execution_count": null,
      "outputs": [
        {
          "output_type": "execute_result",
          "data": {
            "text/plain": [
              "97278"
            ]
          },
          "metadata": {
            "tags": []
          },
          "execution_count": 15
        }
      ]
    },
    {
      "cell_type": "code",
      "metadata": {
        "id": "lOVWCW6S2gW4",
        "colab": {
          "base_uri": "https://localhost:8080/",
          "height": 51
        },
        "outputId": "2da1bdbe-b411-4fd8-cb59-c9acef45865e"
      },
      "source": [
        "from time import time\n",
        "t0 = time()\n",
        "normal_count = normal_raw_data.count()\n",
        "tt = time()-t0\n",
        "print(\"There are {} 'normal' iterations\".format(normal_count))\n",
        "print(\"Count completed in {} seconds\".format(round(tt,3)))"
      ],
      "execution_count": null,
      "outputs": [
        {
          "output_type": "stream",
          "text": [
            "There are 97278 'normal' iterations\n",
            "Count completed in 1.371 seconds\n"
          ],
          "name": "stdout"
        }
      ]
    },
    {
      "cell_type": "code",
      "metadata": {
        "id": "EpUvm6592xq1"
      },
      "source": [
        "# We can do that by using a lib called pprint which means \"Pretty Print\" we can input to the interpretor"
      ],
      "execution_count": null,
      "outputs": []
    },
    {
      "cell_type": "code",
      "metadata": {
        "id": "JDR6GPkX7zHb",
        "colab": {
          "base_uri": "https://localhost:8080/",
          "height": 748
        },
        "outputId": "5ceffb95-8971-45fe-cdce-c2a9a9300730"
      },
      "source": [
        "from pprint import pprint\n",
        "csv_data = raw_data.map(lambda x: x.split(','))\n",
        "t0 = time()\n",
        "head_rows = csv_data.take(5)\n",
        "tt = time()-t0\n",
        "print(\"Parse completed in {} seconds\".format(round(tt,3)))\n",
        "pprint(head_rows[0])\n"
      ],
      "execution_count": null,
      "outputs": [
        {
          "output_type": "stream",
          "text": [
            "Parse completed in 0.065 seconds\n",
            "['0',\n",
            " 'tcp',\n",
            " 'http',\n",
            " 'SF',\n",
            " '181',\n",
            " '5450',\n",
            " '0',\n",
            " '0',\n",
            " '0',\n",
            " '0',\n",
            " '0',\n",
            " '1',\n",
            " '0',\n",
            " '0',\n",
            " '0',\n",
            " '0',\n",
            " '0',\n",
            " '0',\n",
            " '0',\n",
            " '0',\n",
            " '0',\n",
            " '0',\n",
            " '8',\n",
            " '8',\n",
            " '0.00',\n",
            " '0.00',\n",
            " '0.00',\n",
            " '0.00',\n",
            " '1.00',\n",
            " '0.00',\n",
            " '0.00',\n",
            " '9',\n",
            " '9',\n",
            " '1.00',\n",
            " '0.00',\n",
            " '0.11',\n",
            " '0.00',\n",
            " '0.00',\n",
            " '0.00',\n",
            " '0.00',\n",
            " '0.00',\n",
            " 'normal.']\n"
          ],
          "name": "stdout"
        }
      ]
    },
    {
      "cell_type": "code",
      "metadata": {
        "id": "yeZJAvnc7-5j"
      },
      "source": [
        "# What if we take the lot of elements instead of only few"
      ],
      "execution_count": null,
      "outputs": []
    },
    {
      "cell_type": "code",
      "metadata": {
        "id": "1REnRv6M-P0S",
        "colab": {
          "base_uri": "https://localhost:8080/",
          "height": 34
        },
        "outputId": "69d7ea40-8a6d-4f8f-ab44-c27c78d87230"
      },
      "source": [
        "t0 = time()\n",
        "head_rows = csv_data.take(100000)\n",
        "tt = time() - t0\n",
        "print(\"Parse completed in {} seconds\".format(round(tt,3)))"
      ],
      "execution_count": null,
      "outputs": [
        {
          "output_type": "stream",
          "text": [
            "Parse completed in 2.298 seconds\n"
          ],
          "name": "stdout"
        }
      ]
    },
    {
      "cell_type": "code",
      "metadata": {
        "id": "96Bf6R5F-TOu"
      },
      "source": [
        "# Using map and predifined function"
      ],
      "execution_count": null,
      "outputs": []
    },
    {
      "cell_type": "code",
      "metadata": {
        "id": "IgP3gj9NASgq",
        "colab": {
          "base_uri": "https://localhost:8080/",
          "height": 748
        },
        "outputId": "283c7dbf-7e83-492a-8bca-748cf4eac964"
      },
      "source": [
        "def parse_iteraction(line):\n",
        "  elems = line.split(',')\n",
        "  tag = elems[41]\n",
        "  return(tag,elems)\n",
        "\n",
        "key_csv_data = raw_data.map(parse_iteraction)\n",
        "head_rows = key_csv_data.take(5)\n",
        "pprint(head_rows[0])"
      ],
      "execution_count": null,
      "outputs": [
        {
          "output_type": "stream",
          "text": [
            "('normal.',\n",
            " ['0',\n",
            "  'tcp',\n",
            "  'http',\n",
            "  'SF',\n",
            "  '181',\n",
            "  '5450',\n",
            "  '0',\n",
            "  '0',\n",
            "  '0',\n",
            "  '0',\n",
            "  '0',\n",
            "  '1',\n",
            "  '0',\n",
            "  '0',\n",
            "  '0',\n",
            "  '0',\n",
            "  '0',\n",
            "  '0',\n",
            "  '0',\n",
            "  '0',\n",
            "  '0',\n",
            "  '0',\n",
            "  '8',\n",
            "  '8',\n",
            "  '0.00',\n",
            "  '0.00',\n",
            "  '0.00',\n",
            "  '0.00',\n",
            "  '1.00',\n",
            "  '0.00',\n",
            "  '0.00',\n",
            "  '9',\n",
            "  '9',\n",
            "  '1.00',\n",
            "  '0.00',\n",
            "  '0.11',\n",
            "  '0.00',\n",
            "  '0.00',\n",
            "  '0.00',\n",
            "  '0.00',\n",
            "  '0.00',\n",
            "  'normal.'])\n"
          ],
          "name": "stdout"
        }
      ]
    },
    {
      "cell_type": "code",
      "metadata": {
        "id": "Gy2s3JjBBQTy"
      },
      "source": [
        "# Using the collect action() especially when we are using the large RDD"
      ],
      "execution_count": null,
      "outputs": []
    },
    {
      "cell_type": "code",
      "metadata": {
        "id": "x3ALzkqNCDl_",
        "colab": {
          "base_uri": "https://localhost:8080/",
          "height": 34
        },
        "outputId": "db9bcfb2-bb68-45ab-b3ae-fe198429f9cc"
      },
      "source": [
        "t0 = time()\n",
        "all_raw_data = raw_data.collect()\n",
        "tt = time() - t0\n",
        "print(\"Data collected in {} seconds\".format(round(tt,3)))"
      ],
      "execution_count": null,
      "outputs": [
        {
          "output_type": "stream",
          "text": [
            "Data collected in 4.562 seconds\n"
          ],
          "name": "stdout"
        }
      ]
    },
    {
      "cell_type": "markdown",
      "metadata": {
        "id": "Mqo9zmYzeCnz"
      },
      "source": [
        "## Taking the sample from the raw_data"
      ]
    },
    {
      "cell_type": "code",
      "metadata": {
        "id": "m9rm0sgsCFq3",
        "colab": {
          "base_uri": "https://localhost:8080/",
          "height": 34
        },
        "outputId": "66c33c92-7bfa-48b4-b07e-f3c4e50b53e2"
      },
      "source": [
        "raw_data_sample = raw_data.sample(False , 0.1, 1234)\n",
        "sample_size = raw_data_sample.count()\n",
        "total_size = raw_data.count()\n",
        "print(\"Sample size is {} of {}\".format(sample_size, total_size))"
      ],
      "execution_count": null,
      "outputs": [
        {
          "output_type": "stream",
          "text": [
            "Sample size is 49493 of 494021\n"
          ],
          "name": "stdout"
        }
      ]
    },
    {
      "cell_type": "code",
      "metadata": {
        "id": "nU2nYMp7pVmk",
        "colab": {
          "base_uri": "https://localhost:8080/",
          "height": 51
        },
        "outputId": "4192cb37-c316-461b-ac6b-4f79cbed54a1"
      },
      "source": [
        "# transformations to be applied\n",
        "raw_data_sample_items = raw_data_sample.map(lambda x: x.split(\",\"))\n",
        "sample_normal_tags = raw_data_sample_items.filter(lambda x: \"normal.\" in x)\n",
        "\n",
        "# actions + time\n",
        "t0 = time()\n",
        "sample_normal_tags_count = sample_normal_tags.count()\n",
        "tt = time() - t0\n",
        "\n",
        "sample_normal_ratio = sample_normal_tags_count / float(sample_size)\n",
        "print(\"The ratio of 'normal' interactions is {}\".format(round(sample_normal_ratio,3)))\n",
        "print(\"Count done in {} seconds\".format(round(tt,3)))"
      ],
      "execution_count": null,
      "outputs": [
        {
          "output_type": "stream",
          "text": [
            "The ratio of 'normal' interactions is 0.195\n",
            "Count done in 1.592 seconds\n"
          ],
          "name": "stdout"
        }
      ]
    },
    {
      "cell_type": "markdown",
      "metadata": {
        "id": "YTU96IuWrDJB"
      },
      "source": [
        "## Doing the transformations without using the sample"
      ]
    },
    {
      "cell_type": "code",
      "metadata": {
        "id": "uZhAvQmepmvw",
        "colab": {
          "base_uri": "https://localhost:8080/",
          "height": 51
        },
        "outputId": "adb41e08-16fd-46b8-b392-04aab101424a"
      },
      "source": [
        "raw_data_items = raw_data.map(lambda x: x.split(\",\"))\n",
        "normal_tags = raw_data_items.filter(lambda x: \"normal.\" in x)\n",
        "\n",
        "# actions + time\n",
        "t0 = time()\n",
        "normal_tags_count = normal_tags.count()\n",
        "tt = time() - t0\n",
        "\n",
        "normal_ratio = normal_tags_count / float(total_size)\n",
        "print(\"The ratio of 'normal' interactions is {}\".format(round(normal_ratio,3)))\n",
        "print(\"Count done in {} seconds\".format(round(tt,3)))"
      ],
      "execution_count": null,
      "outputs": [
        {
          "output_type": "stream",
          "text": [
            "The ratio of 'normal' interactions is 0.197\n",
            "Count done in 2.367 seconds\n"
          ],
          "name": "stdout"
        }
      ]
    },
    {
      "cell_type": "code",
      "metadata": {
        "id": "kwaq7KRGre8v",
        "colab": {
          "base_uri": "https://localhost:8080/",
          "height": 51
        },
        "outputId": "e6352382-3102-4ea0-d51f-b630087c8ad1"
      },
      "source": [
        "# Taking the takesample action\n",
        "t0 = time()\n",
        "raw_data_sample = raw_data.takeSample(False, 400000, 1234)\n",
        "normal_data_sample = [x.split(\",\") for x in raw_data_sample if \"normal.\" in x]\n",
        "tt = time() - t0\n",
        "\n",
        "normal_sample_size = len(normal_data_sample)\n",
        "\n",
        "normal_ratio = normal_sample_size / 400000.0\n",
        "print(\"The ratio of 'normal' interactions is {}\".format(normal_ratio))\n",
        "print(\"Count done in {} seconds\".format(round(tt,3)))"
      ],
      "execution_count": null,
      "outputs": [
        {
          "output_type": "stream",
          "text": [
            "The ratio of 'normal' interactions is 0.1967175\n",
            "Count done in 4.476 seconds\n"
          ],
          "name": "stdout"
        }
      ]
    },
    {
      "cell_type": "markdown",
      "metadata": {
        "id": "aTw6Ky4xsmyZ"
      },
      "source": [
        "## Using the attack interactions by using the subtract"
      ]
    },
    {
      "cell_type": "code",
      "metadata": {
        "id": "GtbHlclbsD9P"
      },
      "source": [
        "attack_raw_data = raw_data.subtract(normal_raw_data)"
      ],
      "execution_count": null,
      "outputs": []
    },
    {
      "cell_type": "code",
      "metadata": {
        "id": "sSFoMSJ-s3lo",
        "colab": {
          "base_uri": "https://localhost:8080/",
          "height": 34
        },
        "outputId": "82d2f848-a368-477f-9db6-c3a50ca84ac3"
      },
      "source": [
        "# count all\n",
        "t0 = time()\n",
        "raw_data_count = raw_data.count()\n",
        "tt = time() - t0\n",
        "print(\"All count in {} secs\".format(round(tt,3)))"
      ],
      "execution_count": null,
      "outputs": [
        {
          "output_type": "stream",
          "text": [
            "All count in 1.46 secs\n"
          ],
          "name": "stdout"
        }
      ]
    },
    {
      "cell_type": "code",
      "metadata": {
        "id": "Itgyse1es-97",
        "colab": {
          "base_uri": "https://localhost:8080/",
          "height": 34
        },
        "outputId": "f691a219-64f1-4d2e-dfdb-04db97ac9d38"
      },
      "source": [
        "# Count normal_raw_data\n",
        "t0 = time()\n",
        "normal_raw_data_count = normal_raw_data.count()\n",
        "tt = time()-t0\n",
        "print(\"Normal count in {} seconds\".format(round(tt,3)))"
      ],
      "execution_count": null,
      "outputs": [
        {
          "output_type": "stream",
          "text": [
            "Normal count in 1.272 seconds\n"
          ],
          "name": "stdout"
        }
      ]
    },
    {
      "cell_type": "code",
      "metadata": {
        "id": "uLK589_Nt1Zw",
        "colab": {
          "base_uri": "https://localhost:8080/",
          "height": 34
        },
        "outputId": "623e6982-2f95-4c6a-9a65-6e6bc226f310"
      },
      "source": [
        "# Count attack_raw_data\n",
        "t0 = time()\n",
        "attack_raw_data_count = attack_raw_data.count()\n",
        "tt = time()-t0\n",
        "print(\"Attack count in {} seconds\".format(round(tt,3)))"
      ],
      "execution_count": null,
      "outputs": [
        {
          "output_type": "stream",
          "text": [
            "Attack count in 7.162 seconds\n"
          ],
          "name": "stdout"
        }
      ]
    },
    {
      "cell_type": "code",
      "metadata": {
        "id": "kJnesPYzuitW",
        "colab": {
          "base_uri": "https://localhost:8080/",
          "height": 34
        },
        "outputId": "2fb3a042-f84c-4c29-de3c-ce0872715af5"
      },
      "source": [
        "print(\"There are {} normal interactions and {} attacks, \\\n",
        "from a total of {} interactions\".format(normal_raw_data_count,attack_raw_data_count,raw_data_count))"
      ],
      "execution_count": null,
      "outputs": [
        {
          "output_type": "stream",
          "text": [
            "There are 97278 normal interactions and 396743 attacks, from a total of 494021 interactions\n"
          ],
          "name": "stdout"
        }
      ]
    },
    {
      "cell_type": "markdown",
      "metadata": {
        "id": "3QntYzZ7y_0S"
      },
      "source": [
        "## Protocols and service combinations"
      ]
    },
    {
      "cell_type": "code",
      "metadata": {
        "id": "KJM_qe4IyqCK",
        "colab": {
          "base_uri": "https://localhost:8080/",
          "height": 34
        },
        "outputId": "c416f403-8899-41eb-b32f-529edce02202"
      },
      "source": [
        "csv_data = raw_data.map(lambda x:x.split(','))\n",
        "protocols = csv_data.map(lambda x:x[1]).distinct()\n",
        "protocols.collect()"
      ],
      "execution_count": null,
      "outputs": [
        {
          "output_type": "execute_result",
          "data": {
            "text/plain": [
              "['tcp', 'udp', 'icmp']"
            ]
          },
          "metadata": {
            "tags": []
          },
          "execution_count": 34
        }
      ]
    },
    {
      "cell_type": "markdown",
      "metadata": {
        "id": "-xhPhx2ZzzPw"
      },
      "source": [
        "Collecting the services"
      ]
    },
    {
      "cell_type": "code",
      "metadata": {
        "id": "JSDbmsPOzn8P",
        "colab": {
          "base_uri": "https://localhost:8080/",
          "height": 1139
        },
        "outputId": "5871c92a-9bc3-4f61-b88d-7272c4230c28"
      },
      "source": [
        "services = csv_data.map(lambda x:x[2]).distinct()\n",
        "services.collect()"
      ],
      "execution_count": null,
      "outputs": [
        {
          "output_type": "execute_result",
          "data": {
            "text/plain": [
              "['http',\n",
              " 'smtp',\n",
              " 'finger',\n",
              " 'domain_u',\n",
              " 'auth',\n",
              " 'telnet',\n",
              " 'ftp',\n",
              " 'eco_i',\n",
              " 'ntp_u',\n",
              " 'ecr_i',\n",
              " 'other',\n",
              " 'private',\n",
              " 'pop_3',\n",
              " 'ftp_data',\n",
              " 'rje',\n",
              " 'time',\n",
              " 'mtp',\n",
              " 'link',\n",
              " 'remote_job',\n",
              " 'gopher',\n",
              " 'ssh',\n",
              " 'name',\n",
              " 'whois',\n",
              " 'domain',\n",
              " 'login',\n",
              " 'imap4',\n",
              " 'daytime',\n",
              " 'ctf',\n",
              " 'nntp',\n",
              " 'shell',\n",
              " 'IRC',\n",
              " 'nnsp',\n",
              " 'http_443',\n",
              " 'exec',\n",
              " 'printer',\n",
              " 'efs',\n",
              " 'courier',\n",
              " 'uucp',\n",
              " 'klogin',\n",
              " 'kshell',\n",
              " 'echo',\n",
              " 'discard',\n",
              " 'systat',\n",
              " 'supdup',\n",
              " 'iso_tsap',\n",
              " 'hostnames',\n",
              " 'csnet_ns',\n",
              " 'pop_2',\n",
              " 'sunrpc',\n",
              " 'uucp_path',\n",
              " 'netbios_ns',\n",
              " 'netbios_ssn',\n",
              " 'netbios_dgm',\n",
              " 'sql_net',\n",
              " 'vmnet',\n",
              " 'bgp',\n",
              " 'Z39_50',\n",
              " 'ldap',\n",
              " 'netstat',\n",
              " 'urh_i',\n",
              " 'X11',\n",
              " 'urp_i',\n",
              " 'pm_dump',\n",
              " 'tftp_u',\n",
              " 'tim_i',\n",
              " 'red_i']"
            ]
          },
          "metadata": {
            "tags": []
          },
          "execution_count": 35
        }
      ]
    },
    {
      "cell_type": "markdown",
      "metadata": {
        "id": "rbYHI1D90Qn_"
      },
      "source": [
        "**Now we can the cartesian product in case of large list**"
      ]
    },
    {
      "cell_type": "code",
      "metadata": {
        "id": "qD2FFNmd0E8V",
        "colab": {
          "base_uri": "https://localhost:8080/",
          "height": 34
        },
        "outputId": "12db0264-f933-4470-9871-6777dbf02ed0"
      },
      "source": [
        "product = protocols.cartesian(services).collect()\n",
        "print(\"There are {} combinations of protocol x service\".format(len(product)))"
      ],
      "execution_count": null,
      "outputs": [
        {
          "output_type": "stream",
          "text": [
            "There are 198 combinations of protocol x service\n"
          ],
          "name": "stdout"
        }
      ]
    },
    {
      "cell_type": "markdown",
      "metadata": {
        "id": "h39Mlzaw1ioU"
      },
      "source": [
        "## Aggregatios"
      ]
    },
    {
      "cell_type": "code",
      "metadata": {
        "id": "ry4407Zd07hS"
      },
      "source": [
        "# parse data\n",
        "csv_data = raw_data.map(lambda x: x.split(\",\"))\n",
        "\n",
        "# separate into different RDDs\n",
        "normal_csv_data = csv_data.filter(lambda x: x[41]==\"normal.\")\n",
        "attack_csv_data = csv_data.filter(lambda x: x[41]!=\"normal.\")"
      ],
      "execution_count": null,
      "outputs": []
    },
    {
      "cell_type": "markdown",
      "metadata": {
        "id": "mMRtiLb222PM"
      },
      "source": [
        "** If we want to sum durations we need to extract that element into a new RDD.**"
      ]
    },
    {
      "cell_type": "code",
      "metadata": {
        "id": "DCUtjs5M2Nii"
      },
      "source": [
        "normal_duration_data = normal_csv_data.map(lambda x:int(x[0]))\n",
        "attack_duration_data = attack_csv_data.map(lambda x:int(x[0]))"
      ],
      "execution_count": null,
      "outputs": []
    },
    {
      "cell_type": "markdown",
      "metadata": {
        "id": "97dH2HkX3qdy"
      },
      "source": [
        "**Now we can reduce these new RDDs.**"
      ]
    },
    {
      "cell_type": "code",
      "metadata": {
        "id": "PE-2cW4z3arZ",
        "colab": {
          "base_uri": "https://localhost:8080/",
          "height": 51
        },
        "outputId": "27dfccb6-395d-4e75-e707-36cf8ec365c9"
      },
      "source": [
        "total_normal_duration = normal_duration_data.reduce(lambda x,y:x+y)\n",
        "total_attack_duration = attack_duration_data.reduce(lambda x,y:x+y)\n",
        "\n",
        "print(\"Total duration for 'normal' interactions is {}\".\\\n",
        "    format(total_normal_duration))\n",
        "print(\"Total duration for 'attack' interactions is {}\".\\\n",
        "    format(total_attack_duration))"
      ],
      "execution_count": null,
      "outputs": [
        {
          "output_type": "stream",
          "text": [
            "Total duration for 'normal' interactions is 21075991\n",
            "Total duration for 'attack' interactions is 2626792\n"
          ],
          "name": "stdout"
        }
      ]
    },
    {
      "cell_type": "markdown",
      "metadata": {
        "id": "U0cuS9kDttGi"
      },
      "source": [
        "**We can go further and use counts to calculate duration means.**"
      ]
    },
    {
      "cell_type": "code",
      "metadata": {
        "id": "wbTfcPIVsrsF",
        "colab": {
          "base_uri": "https://localhost:8080/",
          "height": 51
        },
        "outputId": "4cf944da-d456-44d3-cf61-40c15ab59439"
      },
      "source": [
        "normal_count = normal_duration_data.count()\n",
        "attack_count = attack_duration_data.count()\n",
        "\n",
        "print(\"Mean duration for 'normal' interactions is {}\".\\\n",
        "    format(round(total_normal_duration/float(normal_count),3)))\n",
        "print(\"Mean duration for 'attack' interactions is {}\".\\\n",
        "    format(round(total_attack_duration/float(attack_count),3)))"
      ],
      "execution_count": null,
      "outputs": [
        {
          "output_type": "stream",
          "text": [
            "Mean duration for 'normal' interactions is 216.657\n",
            "Mean duration for 'attack' interactions is 6.621\n"
          ],
          "name": "stdout"
        }
      ]
    },
    {
      "cell_type": "markdown",
      "metadata": {
        "id": "9wAjyrYet-Pl"
      },
      "source": [
        "## A better way, using aggregate"
      ]
    },
    {
      "cell_type": "code",
      "metadata": {
        "id": "bzL7gQ8Vt4Ry",
        "colab": {
          "base_uri": "https://localhost:8080/",
          "height": 34
        },
        "outputId": "152cb071-a660-4279-e3ac-8cfe5598f68b"
      },
      "source": [
        "normal_sum_count = normal_duration_data.aggregate(\n",
        "    (0,0), # the initial value\n",
        "    (lambda acc, value: (acc[0] + value, acc[1] + 1)), # combine value with acc\n",
        "    (lambda acc1, acc2: (acc1[0] + acc2[0], acc1[1] + acc2[1])) # combine accumulators\n",
        ")\n",
        "\n",
        "print(\"Mean duration for 'normal' interactions is {}\".\\\n",
        "    format(round(normal_sum_count[0]/float(normal_sum_count[1]),3)))"
      ],
      "execution_count": null,
      "outputs": [
        {
          "output_type": "stream",
          "text": [
            "Mean duration for 'normal' interactions is 216.657\n"
          ],
          "name": "stdout"
        }
      ]
    },
    {
      "cell_type": "markdown",
      "metadata": {
        "id": "5HUqrlu7uZpu"
      },
      "source": [
        "**We can do the same with attack type interactions.**"
      ]
    },
    {
      "cell_type": "code",
      "metadata": {
        "id": "5eaqqnjHuSX4",
        "colab": {
          "base_uri": "https://localhost:8080/",
          "height": 34
        },
        "outputId": "d52bf963-c028-44b3-c9be-0b496026be2c"
      },
      "source": [
        "attack_sum_count = attack_duration_data.aggregate(\n",
        "    (0,0), # the initial value\n",
        "    (lambda acc, value: (acc[0] + value, acc[1] + 1)), # combine value with acc\n",
        "    (lambda acc1, acc2: (acc1[0] + acc2[0], acc1[1] + acc2[1])) # combine accumulators\n",
        ")\n",
        "\n",
        "print(\"Mean duration for 'attack' interactions is {}\".\\\n",
        "    format(round(attack_sum_count[0]/float(attack_sum_count[1]),3)))"
      ],
      "execution_count": null,
      "outputs": [
        {
          "output_type": "stream",
          "text": [
            "Mean duration for 'attack' interactions is 6.621\n"
          ],
          "name": "stdout"
        }
      ]
    },
    {
      "cell_type": "markdown",
      "metadata": {
        "id": "SV2_DRYsvDL6"
      },
      "source": [
        "**Normally we create key/value pair RDDs by applying a function using map to the original data. This function returns the corresponding pair for a given RDD element. We can proceed as follows.**"
      ]
    },
    {
      "cell_type": "code",
      "metadata": {
        "id": "GSSiric-uiJo"
      },
      "source": [
        "csv_data = raw_data.map(lambda x: x.split(\",\"))\n",
        "key_value_data = csv_data.map(lambda x: (x[41], x)) \n",
        "# x[41] contains the network interaction tag"
      ],
      "execution_count": null,
      "outputs": []
    },
    {
      "cell_type": "markdown",
      "metadata": {
        "id": "lpKmHfdNvSO5"
      },
      "source": [
        "**We have now our key/value pair data ready to be used. Let's get the first element in order to see how it looks like.**"
      ]
    },
    {
      "cell_type": "code",
      "metadata": {
        "id": "Ng8ZU3ZJvPbT",
        "colab": {
          "base_uri": "https://localhost:8080/",
          "height": 3672
        },
        "outputId": "36bd6480-f8aa-4fc5-c637-26c88b8993bd"
      },
      "source": [
        "key_value_data.take(5)"
      ],
      "execution_count": null,
      "outputs": [
        {
          "output_type": "execute_result",
          "data": {
            "text/plain": [
              "[('normal.',\n",
              "  ['0',\n",
              "   'tcp',\n",
              "   'http',\n",
              "   'SF',\n",
              "   '181',\n",
              "   '5450',\n",
              "   '0',\n",
              "   '0',\n",
              "   '0',\n",
              "   '0',\n",
              "   '0',\n",
              "   '1',\n",
              "   '0',\n",
              "   '0',\n",
              "   '0',\n",
              "   '0',\n",
              "   '0',\n",
              "   '0',\n",
              "   '0',\n",
              "   '0',\n",
              "   '0',\n",
              "   '0',\n",
              "   '8',\n",
              "   '8',\n",
              "   '0.00',\n",
              "   '0.00',\n",
              "   '0.00',\n",
              "   '0.00',\n",
              "   '1.00',\n",
              "   '0.00',\n",
              "   '0.00',\n",
              "   '9',\n",
              "   '9',\n",
              "   '1.00',\n",
              "   '0.00',\n",
              "   '0.11',\n",
              "   '0.00',\n",
              "   '0.00',\n",
              "   '0.00',\n",
              "   '0.00',\n",
              "   '0.00',\n",
              "   'normal.']),\n",
              " ('normal.',\n",
              "  ['0',\n",
              "   'tcp',\n",
              "   'http',\n",
              "   'SF',\n",
              "   '239',\n",
              "   '486',\n",
              "   '0',\n",
              "   '0',\n",
              "   '0',\n",
              "   '0',\n",
              "   '0',\n",
              "   '1',\n",
              "   '0',\n",
              "   '0',\n",
              "   '0',\n",
              "   '0',\n",
              "   '0',\n",
              "   '0',\n",
              "   '0',\n",
              "   '0',\n",
              "   '0',\n",
              "   '0',\n",
              "   '8',\n",
              "   '8',\n",
              "   '0.00',\n",
              "   '0.00',\n",
              "   '0.00',\n",
              "   '0.00',\n",
              "   '1.00',\n",
              "   '0.00',\n",
              "   '0.00',\n",
              "   '19',\n",
              "   '19',\n",
              "   '1.00',\n",
              "   '0.00',\n",
              "   '0.05',\n",
              "   '0.00',\n",
              "   '0.00',\n",
              "   '0.00',\n",
              "   '0.00',\n",
              "   '0.00',\n",
              "   'normal.']),\n",
              " ('normal.',\n",
              "  ['0',\n",
              "   'tcp',\n",
              "   'http',\n",
              "   'SF',\n",
              "   '235',\n",
              "   '1337',\n",
              "   '0',\n",
              "   '0',\n",
              "   '0',\n",
              "   '0',\n",
              "   '0',\n",
              "   '1',\n",
              "   '0',\n",
              "   '0',\n",
              "   '0',\n",
              "   '0',\n",
              "   '0',\n",
              "   '0',\n",
              "   '0',\n",
              "   '0',\n",
              "   '0',\n",
              "   '0',\n",
              "   '8',\n",
              "   '8',\n",
              "   '0.00',\n",
              "   '0.00',\n",
              "   '0.00',\n",
              "   '0.00',\n",
              "   '1.00',\n",
              "   '0.00',\n",
              "   '0.00',\n",
              "   '29',\n",
              "   '29',\n",
              "   '1.00',\n",
              "   '0.00',\n",
              "   '0.03',\n",
              "   '0.00',\n",
              "   '0.00',\n",
              "   '0.00',\n",
              "   '0.00',\n",
              "   '0.00',\n",
              "   'normal.']),\n",
              " ('normal.',\n",
              "  ['0',\n",
              "   'tcp',\n",
              "   'http',\n",
              "   'SF',\n",
              "   '219',\n",
              "   '1337',\n",
              "   '0',\n",
              "   '0',\n",
              "   '0',\n",
              "   '0',\n",
              "   '0',\n",
              "   '1',\n",
              "   '0',\n",
              "   '0',\n",
              "   '0',\n",
              "   '0',\n",
              "   '0',\n",
              "   '0',\n",
              "   '0',\n",
              "   '0',\n",
              "   '0',\n",
              "   '0',\n",
              "   '6',\n",
              "   '6',\n",
              "   '0.00',\n",
              "   '0.00',\n",
              "   '0.00',\n",
              "   '0.00',\n",
              "   '1.00',\n",
              "   '0.00',\n",
              "   '0.00',\n",
              "   '39',\n",
              "   '39',\n",
              "   '1.00',\n",
              "   '0.00',\n",
              "   '0.03',\n",
              "   '0.00',\n",
              "   '0.00',\n",
              "   '0.00',\n",
              "   '0.00',\n",
              "   '0.00',\n",
              "   'normal.']),\n",
              " ('normal.',\n",
              "  ['0',\n",
              "   'tcp',\n",
              "   'http',\n",
              "   'SF',\n",
              "   '217',\n",
              "   '2032',\n",
              "   '0',\n",
              "   '0',\n",
              "   '0',\n",
              "   '0',\n",
              "   '0',\n",
              "   '1',\n",
              "   '0',\n",
              "   '0',\n",
              "   '0',\n",
              "   '0',\n",
              "   '0',\n",
              "   '0',\n",
              "   '0',\n",
              "   '0',\n",
              "   '0',\n",
              "   '0',\n",
              "   '6',\n",
              "   '6',\n",
              "   '0.00',\n",
              "   '0.00',\n",
              "   '0.00',\n",
              "   '0.00',\n",
              "   '1.00',\n",
              "   '0.00',\n",
              "   '0.00',\n",
              "   '49',\n",
              "   '49',\n",
              "   '1.00',\n",
              "   '0.00',\n",
              "   '0.02',\n",
              "   '0.00',\n",
              "   '0.00',\n",
              "   '0.00',\n",
              "   '0.00',\n",
              "   '0.00',\n",
              "   'normal.'])]"
            ]
          },
          "metadata": {
            "tags": []
          },
          "execution_count": 44
        }
      ]
    },
    {
      "cell_type": "markdown",
      "metadata": {
        "id": "DJgRKoRLvkMz"
      },
      "source": [
        "## Data aggregations with key/value pair RDDs¶"
      ]
    },
    {
      "cell_type": "code",
      "metadata": {
        "id": "zaU2OQ7PvaEr",
        "colab": {
          "base_uri": "https://localhost:8080/",
          "height": 408
        },
        "outputId": "29276b47-9079-4de3-eed6-501cdcbc8276"
      },
      "source": [
        "key_value_duration = csv_data.map(lambda x: (x[41], float(x[0]))) \n",
        "durations_by_key = key_value_duration.reduceByKey(lambda x, y: x + y)\n",
        "\n",
        "durations_by_key.collect()"
      ],
      "execution_count": null,
      "outputs": [
        {
          "output_type": "execute_result",
          "data": {
            "text/plain": [
              "[('normal.', 21075991.0),\n",
              " ('buffer_overflow.', 2751.0),\n",
              " ('loadmodule.', 326.0),\n",
              " ('perl.', 124.0),\n",
              " ('neptune.', 0.0),\n",
              " ('smurf.', 0.0),\n",
              " ('guess_passwd.', 144.0),\n",
              " ('pod.', 0.0),\n",
              " ('teardrop.', 0.0),\n",
              " ('portsweep.', 1991911.0),\n",
              " ('ipsweep.', 43.0),\n",
              " ('land.', 0.0),\n",
              " ('ftp_write.', 259.0),\n",
              " ('back.', 284.0),\n",
              " ('imap.', 72.0),\n",
              " ('satan.', 64.0),\n",
              " ('phf.', 18.0),\n",
              " ('nmap.', 0.0),\n",
              " ('multihop.', 1288.0),\n",
              " ('warezmaster.', 301.0),\n",
              " ('warezclient.', 627563.0),\n",
              " ('spy.', 636.0),\n",
              " ('rootkit.', 1008.0)]"
            ]
          },
          "metadata": {
            "tags": []
          },
          "execution_count": 45
        }
      ]
    },
    {
      "cell_type": "markdown",
      "metadata": {
        "id": "M8mrmCgTvywZ"
      },
      "source": [
        "**We have a specific counting action for key/value pairs.**"
      ]
    },
    {
      "cell_type": "code",
      "metadata": {
        "id": "2PrYtmtjvtKw",
        "colab": {
          "base_uri": "https://localhost:8080/",
          "height": 425
        },
        "outputId": "6b08d8f1-1abd-478a-dd1c-bc5f0fcb5e23"
      },
      "source": [
        "counts_by_key = key_value_data.countByKey()\n",
        "counts_by_key"
      ],
      "execution_count": null,
      "outputs": [
        {
          "output_type": "execute_result",
          "data": {
            "text/plain": [
              "defaultdict(int,\n",
              "            {'back.': 2203,\n",
              "             'buffer_overflow.': 30,\n",
              "             'ftp_write.': 8,\n",
              "             'guess_passwd.': 53,\n",
              "             'imap.': 12,\n",
              "             'ipsweep.': 1247,\n",
              "             'land.': 21,\n",
              "             'loadmodule.': 9,\n",
              "             'multihop.': 7,\n",
              "             'neptune.': 107201,\n",
              "             'nmap.': 231,\n",
              "             'normal.': 97278,\n",
              "             'perl.': 3,\n",
              "             'phf.': 4,\n",
              "             'pod.': 264,\n",
              "             'portsweep.': 1040,\n",
              "             'rootkit.': 10,\n",
              "             'satan.': 1589,\n",
              "             'smurf.': 280790,\n",
              "             'spy.': 2,\n",
              "             'teardrop.': 979,\n",
              "             'warezclient.': 1020,\n",
              "             'warezmaster.': 20})"
            ]
          },
          "metadata": {
            "tags": []
          },
          "execution_count": 46
        }
      ]
    },
    {
      "cell_type": "markdown",
      "metadata": {
        "id": "9il0s4fsv5zp"
      },
      "source": [
        "**Using combineByKey**"
      ]
    },
    {
      "cell_type": "code",
      "metadata": {
        "id": "F5WZWhaev2K4",
        "colab": {
          "base_uri": "https://localhost:8080/",
          "height": 408
        },
        "outputId": "175d2386-ece2-4a4b-c7df-5840a1958f54"
      },
      "source": [
        "sum_counts = key_value_duration.combineByKey(\n",
        "    (lambda x: (x, 1)), # the initial value, with value x and count 1\n",
        "    (lambda acc, value: (acc[0]+value, acc[1]+1)), # how to combine a pair value with the accumulator: sum value, and increment count\n",
        "    (lambda acc1, acc2: (acc1[0]+acc2[0], acc1[1]+acc2[1])) # combine accumulators\n",
        ")\n",
        "\n",
        "sum_counts.collectAsMap()"
      ],
      "execution_count": null,
      "outputs": [
        {
          "output_type": "execute_result",
          "data": {
            "text/plain": [
              "{'back.': (284.0, 2203),\n",
              " 'buffer_overflow.': (2751.0, 30),\n",
              " 'ftp_write.': (259.0, 8),\n",
              " 'guess_passwd.': (144.0, 53),\n",
              " 'imap.': (72.0, 12),\n",
              " 'ipsweep.': (43.0, 1247),\n",
              " 'land.': (0.0, 21),\n",
              " 'loadmodule.': (326.0, 9),\n",
              " 'multihop.': (1288.0, 7),\n",
              " 'neptune.': (0.0, 107201),\n",
              " 'nmap.': (0.0, 231),\n",
              " 'normal.': (21075991.0, 97278),\n",
              " 'perl.': (124.0, 3),\n",
              " 'phf.': (18.0, 4),\n",
              " 'pod.': (0.0, 264),\n",
              " 'portsweep.': (1991911.0, 1040),\n",
              " 'rootkit.': (1008.0, 10),\n",
              " 'satan.': (64.0, 1589),\n",
              " 'smurf.': (0.0, 280790),\n",
              " 'spy.': (636.0, 2),\n",
              " 'teardrop.': (0.0, 979),\n",
              " 'warezclient.': (627563.0, 1020),\n",
              " 'warezmaster.': (301.0, 20)}"
            ]
          },
          "metadata": {
            "tags": []
          },
          "execution_count": 47
        }
      ]
    },
    {
      "cell_type": "code",
      "metadata": {
        "id": "DN9Tx8ftwCed",
        "colab": {
          "base_uri": "https://localhost:8080/",
          "height": 408
        },
        "outputId": "8a564d1b-af29-4152-8f1b-0b0c06bcf73d"
      },
      "source": [
        "#duration_means_by_type = sum_counts.map(lambda (key,value): (key, round(value[0]/value[1],3))).collectAsMap()\n",
        "duration_means_by_type = sum_counts.map(lambda z: (z[0], round(z[1][0]/z[1][1],3))).collectAsMap()\n",
        "\n",
        "# Print them sorted\n",
        "for tag in sorted(duration_means_by_type, key=duration_means_by_type.get, reverse=True):\n",
        "   print (tag, duration_means_by_type[tag])"
      ],
      "execution_count": null,
      "outputs": [
        {
          "output_type": "stream",
          "text": [
            "portsweep. 1915.299\n",
            "warezclient. 615.258\n",
            "spy. 318.0\n",
            "normal. 216.657\n",
            "multihop. 184.0\n",
            "rootkit. 100.8\n",
            "buffer_overflow. 91.7\n",
            "perl. 41.333\n",
            "loadmodule. 36.222\n",
            "ftp_write. 32.375\n",
            "warezmaster. 15.05\n",
            "imap. 6.0\n",
            "phf. 4.5\n",
            "guess_passwd. 2.717\n",
            "back. 0.129\n",
            "satan. 0.04\n",
            "ipsweep. 0.034\n",
            "neptune. 0.0\n",
            "smurf. 0.0\n",
            "pod. 0.0\n",
            "teardrop. 0.0\n",
            "land. 0.0\n",
            "nmap. 0.0\n"
          ],
          "name": "stdout"
        }
      ]
    },
    {
      "cell_type": "code",
      "metadata": {
        "id": "L-Kh7dWSxqCl"
      },
      "source": [
        ""
      ],
      "execution_count": null,
      "outputs": []
    }
  ]
}