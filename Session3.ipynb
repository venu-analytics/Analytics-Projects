{
  "nbformat": 4,
  "nbformat_minor": 0,
  "metadata": {
    "colab": {
      "name": "Session3.ipynb",
      "provenance": [],
      "collapsed_sections": [],
      "include_colab_link": true
    },
    "kernelspec": {
      "name": "python3",
      "display_name": "Python 3"
    }
  },
  "cells": [
    {
      "cell_type": "markdown",
      "metadata": {
        "id": "view-in-github",
        "colab_type": "text"
      },
      "source": [
        "<a href=\"https://colab.research.google.com/github/venu-analytics/Analytics-Projects/blob/Python-Dev/Session3.ipynb\" target=\"_parent\"><img src=\"https://colab.research.google.com/assets/colab-badge.svg\" alt=\"Open In Colab\"/></a>"
      ]
    },
    {
      "cell_type": "markdown",
      "metadata": {
        "id": "vNjG49LVsGix"
      },
      "source": [
        "## Installing Spark"
      ]
    },
    {
      "cell_type": "code",
      "metadata": {
        "id": "CHEVXhmkXHmL",
        "colab": {
          "base_uri": "https://localhost:8080/",
          "height": 4760
        },
        "outputId": "8a3d0518-40fb-48a3-ca5c-73b0f01e14f1"
      },
      "source": [
        "!apt-get update\n",
        "!apt-get install openjdk-8-jdk-headless -qq\n",
        "!wget -q http://apache.osuosl.org/spark/spark-2.2.1/spark-2.2.1-bin-hadoop2.7.tgz\n",
        "!tar xf spark-2.2.1-bin-hadoop2.7.tgz\n",
        "!pip install -q findspark"
      ],
      "execution_count": null,
      "outputs": [
        {
          "output_type": "stream",
          "text": [
            "Hit:1 http://archive.ubuntu.com/ubuntu artful InRelease\n",
            "Get:2 http://security.ubuntu.com/ubuntu artful-security InRelease [83.2 kB]\n",
            "Get:3 http://archive.ubuntu.com/ubuntu artful-updates InRelease [88.7 kB]\n",
            "Get:4 http://archive.ubuntu.com/ubuntu artful-backports InRelease [74.6 kB]\n",
            "Get:5 http://archive.ubuntu.com/ubuntu artful-updates/universe Sources [45.7 kB]\n",
            "Get:6 http://archive.ubuntu.com/ubuntu artful-updates/main amd64 Packages [364 kB]\n",
            "Get:7 http://archive.ubuntu.com/ubuntu artful-updates/universe amd64 Packages [150 kB]\n",
            "Fetched 806 kB in 1s (620 kB/s)\n",
            "Reading package lists... Done\n",
            "Selecting previously unselected package libapparmor1:amd64.\n",
            "(Reading database ... 18396 files and directories currently installed.)\n",
            "Preparing to unpack .../00-libapparmor1_2.11.0-2ubuntu17.1_amd64.deb ...\n",
            "Unpacking libapparmor1:amd64 (2.11.0-2ubuntu17.1) ...\n",
            "Selecting previously unselected package libdbus-1-3:amd64.\n",
            "Preparing to unpack .../01-libdbus-1-3_1.10.22-1ubuntu1_amd64.deb ...\n",
            "Unpacking libdbus-1-3:amd64 (1.10.22-1ubuntu1) ...\n",
            "Selecting previously unselected package dbus.\n",
            "Preparing to unpack .../02-dbus_1.10.22-1ubuntu1_amd64.deb ...\n",
            "Unpacking dbus (1.10.22-1ubuntu1) ...\n",
            "Selecting previously unselected package java-common.\n",
            "Preparing to unpack .../03-java-common_0.59ubuntu1_all.deb ...\n",
            "Unpacking java-common (0.59ubuntu1) ...\n",
            "Selecting previously unselected package libavahi-common-data:amd64.\n",
            "Preparing to unpack .../04-libavahi-common-data_0.6.32-1ubuntu1.1_amd64.deb ...\n",
            "Unpacking libavahi-common-data:amd64 (0.6.32-1ubuntu1.1) ...\n",
            "Selecting previously unselected package libavahi-common3:amd64.\n",
            "Preparing to unpack .../05-libavahi-common3_0.6.32-1ubuntu1.1_amd64.deb ...\n",
            "Unpacking libavahi-common3:amd64 (0.6.32-1ubuntu1.1) ...\n",
            "Selecting previously unselected package libavahi-client3:amd64.\n",
            "Preparing to unpack .../06-libavahi-client3_0.6.32-1ubuntu1.1_amd64.deb ...\n",
            "Unpacking libavahi-client3:amd64 (0.6.32-1ubuntu1.1) ...\n",
            "Selecting previously unselected package libcups2:amd64.\n",
            "Preparing to unpack .../07-libcups2_2.2.4-7ubuntu3_amd64.deb ...\n",
            "Unpacking libcups2:amd64 (2.2.4-7ubuntu3) ...\n",
            "Selecting previously unselected package liblcms2-2:amd64.\n",
            "Preparing to unpack .../08-liblcms2-2_2.7-1ubuntu1_amd64.deb ...\n",
            "Unpacking liblcms2-2:amd64 (2.7-1ubuntu1) ...\n",
            "Selecting previously unselected package libnspr4:amd64.\n",
            "Preparing to unpack .../09-libnspr4_2%3a4.16-1ubuntu2_amd64.deb ...\n",
            "Unpacking libnspr4:amd64 (2:4.16-1ubuntu2) ...\n",
            "Selecting previously unselected package libnss3:amd64.\n",
            "Preparing to unpack .../10-libnss3_2%3a3.32-1ubuntu3_amd64.deb ...\n",
            "Unpacking libnss3:amd64 (2:3.32-1ubuntu3) ...\n",
            "Selecting previously unselected package libpcsclite1:amd64.\n",
            "Preparing to unpack .../11-libpcsclite1_1.8.22-1ubuntu1_amd64.deb ...\n",
            "Unpacking libpcsclite1:amd64 (1.8.22-1ubuntu1) ...\n",
            "Selecting previously unselected package libxi6:amd64.\n",
            "Preparing to unpack .../12-libxi6_2%3a1.7.9-1_amd64.deb ...\n",
            "Unpacking libxi6:amd64 (2:1.7.9-1) ...\n",
            "Selecting previously unselected package libxtst6:amd64.\n",
            "Preparing to unpack .../13-libxtst6_2%3a1.2.3-1_amd64.deb ...\n",
            "Unpacking libxtst6:amd64 (2:1.2.3-1) ...\n",
            "Selecting previously unselected package openjdk-8-jre-headless:amd64.\n",
            "Preparing to unpack .../14-openjdk-8-jre-headless_8u171-b11-0ubuntu0.17.10.1_amd64.deb ...\n",
            "Unpacking openjdk-8-jre-headless:amd64 (8u171-b11-0ubuntu0.17.10.1) ...\n",
            "Selecting previously unselected package ca-certificates-java.\n",
            "Preparing to unpack .../15-ca-certificates-java_20170930_all.deb ...\n",
            "Unpacking ca-certificates-java (20170930) ...\n",
            "Selecting previously unselected package openjdk-8-jdk-headless:amd64.\n",
            "Preparing to unpack .../16-openjdk-8-jdk-headless_8u171-b11-0ubuntu0.17.10.1_amd64.deb ...\n",
            "Unpacking openjdk-8-jdk-headless:amd64 (8u171-b11-0ubuntu0.17.10.1) ...\n",
            "Setting up libxi6:amd64 (2:1.7.9-1) ...\n",
            "Setting up liblcms2-2:amd64 (2.7-1ubuntu1) ...\n",
            "Setting up libpcsclite1:amd64 (1.8.22-1ubuntu1) ...\n",
            "Setting up java-common (0.59ubuntu1) ...\n",
            "Setting up libnspr4:amd64 (2:4.16-1ubuntu2) ...\n",
            "Setting up libxtst6:amd64 (2:1.2.3-1) ...\n",
            "Processing triggers for libc-bin (2.26-0ubuntu2.1) ...\n",
            "Setting up libapparmor1:amd64 (2.11.0-2ubuntu17.1) ...\n",
            "Processing triggers for ca-certificates (20170717) ...\n",
            "Updating certificates in /etc/ssl/certs...\n",
            "0 added, 0 removed; done.\n",
            "Running hooks in /etc/ca-certificates/update.d...\n",
            "done.\n",
            "Setting up libdbus-1-3:amd64 (1.10.22-1ubuntu1) ...\n",
            "Setting up libavahi-common-data:amd64 (0.6.32-1ubuntu1.1) ...\n",
            "Setting up libnss3:amd64 (2:3.32-1ubuntu3) ...\n",
            "Setting up libavahi-common3:amd64 (0.6.32-1ubuntu1.1) ...\n",
            "Setting up dbus (1.10.22-1ubuntu1) ...\n"
          ],
          "name": "stdout"
        },
        {
          "output_type": "stream",
          "text": [
            "Setting up libavahi-client3:amd64 (0.6.32-1ubuntu1.1) ...\r\n",
            "Setting up libcups2:amd64 (2.2.4-7ubuntu3) ...\n",
            "Setting up ca-certificates-java (20170930) ...\n",
            "Adding debian:Staat_der_Nederlanden_Root_CA_-_G3.pem\n",
            "Adding debian:XRamp_Global_CA_Root.pem\n",
            "Adding debian:Certigna.pem\n",
            "Adding debian:Entrust_Root_Certification_Authority.pem\n",
            "Adding debian:T-TeleSec_GlobalRoot_Class_3.pem\n",
            "Adding debian:OpenTrust_Root_CA_G2.pem\n",
            "Adding debian:GeoTrust_Universal_CA_2.pem\n",
            "Adding debian:Starfield_Class_2_CA.pem\n",
            "Adding debian:CA_Disig_Root_R2.pem\n",
            "Adding debian:OISTE_WISeKey_Global_Root_GB_CA.pem\n",
            "Adding debian:QuoVadis_Root_CA_2.pem\n",
            "Adding debian:DigiCert_Global_Root_G3.pem\n",
            "Adding debian:thawte_Primary_Root_CA.pem\n",
            "Adding debian:Certplus_Root_CA_G2.pem\n",
            "Adding debian:GeoTrust_Primary_Certification_Authority.pem\n",
            "Adding debian:Camerfirma_Chambers_of_Commerce_Root.pem\n",
            "Adding debian:Atos_TrustedRoot_2011.pem\n",
            "Adding debian:Certplus_Root_CA_G1.pem\n",
            "Adding debian:TÜRKTRUST_Elektronik_Sertifika_Hizmet_Sağlayıcısı_H5.pem\n",
            "Adding debian:Security_Communication_RootCA2.pem\n",
            "Adding debian:AddTrust_External_Root.pem\n",
            "Adding debian:Amazon_Root_CA_2.pem\n",
            "Adding debian:DigiCert_Global_Root_CA.pem\n",
            "Adding debian:Actalis_Authentication_Root_CA.pem\n",
            "Adding debian:QuoVadis_Root_CA_3.pem\n",
            "Adding debian:IdenTrust_Public_Sector_Root_CA_1.pem\n",
            "Adding debian:Chambers_of_Commerce_Root_-_2008.pem\n",
            "Adding debian:thawte_Primary_Root_CA_-_G2.pem\n",
            "Adding debian:Entrust_Root_Certification_Authority_-_G2.pem\n",
            "Adding debian:CFCA_EV_ROOT.pem\n",
            "Adding debian:LuxTrust_Global_Root_2.pem\n",
            "Adding debian:AddTrust_Public_Services_Root.pem\n",
            "Adding debian:AffirmTrust_Premium_ECC.pem\n",
            "Adding debian:AffirmTrust_Premium.pem\n",
            "Adding debian:USERTrust_ECC_Certification_Authority.pem\n",
            "Adding debian:TÜBİTAK_UEKAE_Kök_Sertifika_Hizmet_Sağlayıcısı_-_Sürüm_3.pem\n",
            "Adding debian:GlobalSign_Root_CA.pem\n",
            "Adding debian:IdenTrust_Commercial_Root_CA_1.pem\n",
            "Adding debian:DigiCert_Assured_ID_Root_CA.pem\n",
            "Adding debian:EC-ACC.pem\n",
            "Adding debian:D-TRUST_Root_Class_3_CA_2_2009.pem\n",
            "Adding debian:Starfield_Services_Root_Certificate_Authority_-_G2.pem\n",
            "Adding debian:PSCProcert.pem\n",
            "Adding debian:GeoTrust_Global_CA.pem\n",
            "Adding debian:COMODO_Certification_Authority.pem\n",
            "Adding debian:Hellenic_Academic_and_Research_Institutions_RootCA_2011.pem\n",
            "Adding debian:OISTE_WISeKey_Global_Root_GA_CA.pem\n",
            "Adding debian:UTN_USERFirst_Hardware_Root_CA.pem\n",
            "Adding debian:GeoTrust_Global_CA_2.pem\n",
            "Adding debian:Security_Communication_EV_RootCA1.pem\n",
            "Adding debian:GlobalSign_ECC_Root_CA_-_R4.pem\n",
            "Adding debian:Staat_der_Nederlanden_EV_Root_CA.pem\n",
            "Adding debian:TeliaSonera_Root_CA_v1.pem\n",
            "Adding debian:Certinomis_-_Autorité_Racine.pem\n",
            "Adding debian:QuoVadis_Root_CA_3_G3.pem\n",
            "Adding debian:QuoVadis_Root_CA.pem\n",
            "Adding debian:Swisscom_Root_CA_2.pem\n",
            "Adding debian:DigiCert_Global_Root_G2.pem\n",
            "Adding debian:GlobalSign_ECC_Root_CA_-_R5.pem\n",
            "Adding debian:Hellenic_Academic_and_Research_Institutions_RootCA_2015.pem\n",
            "Adding debian:thawte_Primary_Root_CA_-_G3.pem\n",
            "Adding debian:Security_Communication_Root_CA.pem\n",
            "Adding debian:Microsec_e-Szigno_Root_CA_2009.pem\n",
            "Adding debian:certSIGN_ROOT_CA.pem\n",
            "Adding debian:ePKI_Root_Certification_Authority.pem\n",
            "Adding debian:Entrust_Root_Certification_Authority_-_EC1.pem\n",
            "Adding debian:Buypass_Class_3_Root_CA.pem\n",
            "Adding debian:DigiCert_Assured_ID_Root_G3.pem\n",
            "Adding debian:Buypass_Class_2_Root_CA.pem\n",
            "Adding debian:OpenTrust_Root_CA_G3.pem\n",
            "Adding debian:Comodo_Secure_Services_root.pem\n",
            "Adding debian:Go_Daddy_Class_2_CA.pem\n",
            "Adding debian:Starfield_Root_Certificate_Authority_-_G2.pem\n",
            "Adding debian:Go_Daddy_Root_Certificate_Authority_-_G2.pem\n",
            "Adding debian:Amazon_Root_CA_4.pem\n",
            "Adding debian:Amazon_Root_CA_3.pem\n",
            "Adding debian:AC_RAIZ_FNMT-RCM.pem\n",
            "Adding debian:SecureSign_RootCA11.pem\n",
            "Adding debian:DigiCert_High_Assurance_EV_Root_CA.pem\n",
            "Adding debian:Staat_der_Nederlanden_Root_CA_-_G2.pem\n",
            "Adding debian:ISRG_Root_X1.pem\n",
            "Adding debian:T-TeleSec_GlobalRoot_Class_2.pem\n",
            "Adding debian:GeoTrust_Primary_Certification_Authority_-_G2.pem\n",
            "Adding debian:Secure_Global_CA.pem\n",
            "Adding debian:AddTrust_Low-Value_Services_Root.pem\n",
            "Adding debian:AddTrust_Qualified_Certificates_Root.pem\n",
            "Adding debian:QuoVadis_Root_CA_1_G3.pem\n",
            "Adding debian:Taiwan_GRCA.pem\n",
            "Adding debian:SecureTrust_CA.pem\n",
            "Adding debian:Autoridad_de_Certificacion_Firmaprofesional_CIF_A62634068.pem\n",
            "Adding debian:SwissSign_Silver_CA_-_G2.pem\n",
            "Adding debian:Trustis_FPS_Root_CA.pem\n",
            "Adding debian:QuoVadis_Root_CA_2_G3.pem\n",
            "Adding debian:Amazon_Root_CA_1.pem\n",
            "Adding debian:Izenpe.com.pem\n",
            "Adding debian:SZAFIR_ROOT_CA2.pem\n",
            "Adding debian:Global_Chambersign_Root_-_2008.pem\n",
            "Adding debian:Hellenic_Academic_and_Research_Institutions_ECC_RootCA_2015.pem\n",
            "Adding debian:China_Internet_Network_Information_Center_EV_Certificates_Root.pem\n",
            "Adding debian:E-Tugra_Certification_Authority.pem\n",
            "Adding debian:DST_ACES_CA_X6.pem\n",
            "Adding debian:VeriSign_Class_3_Public_Primary_Certification_Authority_-_G4.pem\n",
            "Adding debian:Baltimore_CyberTrust_Root.pem\n",
            "Adding debian:Network_Solutions_Certificate_Authority.pem\n",
            "Adding debian:ACCVRAIZ1.pem\n",
            "Adding debian:Hongkong_Post_Root_CA_1.pem\n",
            "Adding debian:NetLock_Arany_=Class_Gold=_Főtanúsítvány.pem\n",
            "Adding debian:TWCA_Root_Certification_Authority.pem\n",
            "Adding debian:Certplus_Class_2_Primary_CA.pem\n",
            "Adding debian:DigiCert_Trusted_Root_G4.pem\n",
            "Adding debian:OpenTrust_Root_CA_G1.pem\n",
            "Adding debian:TURKTRUST_Certificate_Services_Provider_Root_2007.pem\n",
            "Adding debian:Verisign_Class_3_Public_Primary_Certification_Authority_-_G3.pem\n",
            "Adding debian:GeoTrust_Primary_Certification_Authority_-_G3.pem\n",
            "Adding debian:Sonera_Class_2_Root_CA.pem\n",
            "Adding debian:CNNIC_ROOT.pem\n"
          ],
          "name": "stdout"
        },
        {
          "output_type": "stream",
          "text": [
            "Adding debian:EE_Certification_Centre_Root_CA.pem\r\n",
            "Adding debian:USERTrust_RSA_Certification_Authority.pem\r\n",
            "Adding debian:Certum_Trusted_Network_CA_2.pem\n",
            "Adding debian:CA_Disig_Root_R1.pem\n",
            "Adding debian:SwissSign_Gold_CA_-_G2.pem\n",
            "Adding debian:AffirmTrust_Networking.pem\n",
            "Adding debian:Comodo_AAA_Services_root.pem\n",
            "Adding debian:Entrust.net_Premium_2048_Secure_Server_CA.pem\n",
            "Adding debian:TUBITAK_Kamu_SM_SSL_Kok_Sertifikasi_-_Surum_1.pem\n",
            "Adding debian:ACEDICOM_Root.pem\n",
            "Adding debian:D-TRUST_Root_Class_3_CA_2_EV_2009.pem\n",
            "Adding debian:Certinomis_-_Root_CA.pem\n",
            "Adding debian:TWCA_Global_Root_CA.pem\n",
            "Adding debian:Certum_Root_CA.pem\n",
            "Adding debian:Certum_Trusted_Network_CA.pem\n",
            "Adding debian:VeriSign_Universal_Root_Certification_Authority.pem\n",
            "Adding debian:Deutsche_Telekom_Root_CA_2.pem\n",
            "Adding debian:Camerfirma_Global_Chambersign_Root.pem\n",
            "Adding debian:COMODO_RSA_Certification_Authority.pem\n",
            "Adding debian:Swisscom_Root_EV_CA_2.pem\n",
            "Adding debian:VeriSign_Class_3_Public_Primary_Certification_Authority_-_G5.pem\n",
            "Adding debian:GlobalSign_Root_CA_-_R3.pem\n",
            "Adding debian:Cybertrust_Global_Root.pem\n",
            "Adding debian:AffirmTrust_Commercial.pem\n",
            "Adding debian:Swisscom_Root_CA_1.pem\n",
            "Adding debian:DST_Root_CA_X3.pem\n",
            "Adding debian:COMODO_ECC_Certification_Authority.pem\n",
            "Adding debian:DigiCert_Assured_ID_Root_G2.pem\n",
            "Adding debian:GlobalSign_Root_CA_-_R2.pem\n",
            "Adding debian:Comodo_Trusted_Services_root.pem\n",
            "Adding debian:GeoTrust_Universal_CA.pem\n",
            "Adding debian:Visa_eCommerce_Root.pem\n",
            "done.\n",
            "Setting up openjdk-8-jre-headless:amd64 (8u171-b11-0ubuntu0.17.10.1) ...\n",
            "update-alternatives: using /usr/lib/jvm/java-8-openjdk-amd64/jre/bin/rmid to provide /usr/bin/rmid (rmid) in auto mode\n",
            "update-alternatives: using /usr/lib/jvm/java-8-openjdk-amd64/jre/bin/java to provide /usr/bin/java (java) in auto mode\n",
            "update-alternatives: using /usr/lib/jvm/java-8-openjdk-amd64/jre/bin/keytool to provide /usr/bin/keytool (keytool) in auto mode\n",
            "update-alternatives: using /usr/lib/jvm/java-8-openjdk-amd64/jre/bin/jjs to provide /usr/bin/jjs (jjs) in auto mode\n",
            "update-alternatives: using /usr/lib/jvm/java-8-openjdk-amd64/jre/bin/pack200 to provide /usr/bin/pack200 (pack200) in auto mode\n",
            "update-alternatives: using /usr/lib/jvm/java-8-openjdk-amd64/jre/bin/rmiregistry to provide /usr/bin/rmiregistry (rmiregistry) in auto mode\n",
            "update-alternatives: using /usr/lib/jvm/java-8-openjdk-amd64/jre/bin/unpack200 to provide /usr/bin/unpack200 (unpack200) in auto mode\n",
            "update-alternatives: using /usr/lib/jvm/java-8-openjdk-amd64/jre/bin/orbd to provide /usr/bin/orbd (orbd) in auto mode\n",
            "update-alternatives: using /usr/lib/jvm/java-8-openjdk-amd64/jre/bin/servertool to provide /usr/bin/servertool (servertool) in auto mode\n",
            "update-alternatives: using /usr/lib/jvm/java-8-openjdk-amd64/jre/bin/tnameserv to provide /usr/bin/tnameserv (tnameserv) in auto mode\n",
            "update-alternatives: using /usr/lib/jvm/java-8-openjdk-amd64/jre/lib/jexec to provide /usr/bin/jexec (jexec) in auto mode\n",
            "Setting up openjdk-8-jdk-headless:amd64 (8u171-b11-0ubuntu0.17.10.1) ...\n",
            "update-alternatives: using /usr/lib/jvm/java-8-openjdk-amd64/bin/idlj to provide /usr/bin/idlj (idlj) in auto mode\n",
            "update-alternatives: using /usr/lib/jvm/java-8-openjdk-amd64/bin/jdeps to provide /usr/bin/jdeps (jdeps) in auto mode\n",
            "update-alternatives: using /usr/lib/jvm/java-8-openjdk-amd64/bin/wsimport to provide /usr/bin/wsimport (wsimport) in auto mode\n",
            "update-alternatives: using /usr/lib/jvm/java-8-openjdk-amd64/bin/jinfo to provide /usr/bin/jinfo (jinfo) in auto mode\n",
            "update-alternatives: using /usr/lib/jvm/java-8-openjdk-amd64/bin/jsadebugd to provide /usr/bin/jsadebugd (jsadebugd) in auto mode\n",
            "update-alternatives: using /usr/lib/jvm/java-8-openjdk-amd64/bin/native2ascii to provide /usr/bin/native2ascii (native2ascii) in auto mode\n",
            "update-alternatives: using /usr/lib/jvm/java-8-openjdk-amd64/bin/jstat to provide /usr/bin/jstat (jstat) in auto mode\n",
            "update-alternatives: using /usr/lib/jvm/java-8-openjdk-amd64/bin/javac to provide /usr/bin/javac (javac) in auto mode\n",
            "update-alternatives: using /usr/lib/jvm/java-8-openjdk-amd64/bin/javah to provide /usr/bin/javah (javah) in auto mode\n",
            "update-alternatives: using /usr/lib/jvm/java-8-openjdk-amd64/bin/jstack to provide /usr/bin/jstack (jstack) in auto mode\n",
            "update-alternatives: using /usr/lib/jvm/java-8-openjdk-amd64/bin/jrunscript to provide /usr/bin/jrunscript (jrunscript) in auto mode\n",
            "update-alternatives: using /usr/lib/jvm/java-8-openjdk-amd64/bin/javadoc to provide /usr/bin/javadoc (javadoc) in auto mode\n",
            "update-alternatives: using /usr/lib/jvm/java-8-openjdk-amd64/bin/javap to provide /usr/bin/javap (javap) in auto mode\n",
            "update-alternatives: using /usr/lib/jvm/java-8-openjdk-amd64/bin/jar to provide /usr/bin/jar (jar) in auto mode\n",
            "update-alternatives: using /usr/lib/jvm/java-8-openjdk-amd64/bin/xjc to provide /usr/bin/xjc (xjc) in auto mode\n",
            "update-alternatives: using /usr/lib/jvm/java-8-openjdk-amd64/bin/schemagen to provide /usr/bin/schemagen (schemagen) in auto mode\n",
            "update-alternatives: using /usr/lib/jvm/java-8-openjdk-amd64/bin/jps to provide /usr/bin/jps (jps) in auto mode\n",
            "update-alternatives: using /usr/lib/jvm/java-8-openjdk-amd64/bin/extcheck to provide /usr/bin/extcheck (extcheck) in auto mode\n",
            "update-alternatives: using /usr/lib/jvm/java-8-openjdk-amd64/bin/rmic to provide /usr/bin/rmic (rmic) in auto mode\n",
            "update-alternatives: using /usr/lib/jvm/java-8-openjdk-amd64/bin/jstatd to provide /usr/bin/jstatd (jstatd) in auto mode\n",
            "update-alternatives: using /usr/lib/jvm/java-8-openjdk-amd64/bin/jhat to provide /usr/bin/jhat (jhat) in auto mode\n",
            "update-alternatives: using /usr/lib/jvm/java-8-openjdk-amd64/bin/jdb to provide /usr/bin/jdb (jdb) in auto mode\n",
            "update-alternatives: using /usr/lib/jvm/java-8-openjdk-amd64/bin/serialver to provide /usr/bin/serialver (serialver) in auto mode\n",
            "update-alternatives: using /usr/lib/jvm/java-8-openjdk-amd64/bin/wsgen to provide /usr/bin/wsgen (wsgen) in auto mode\n",
            "update-alternatives: using /usr/lib/jvm/java-8-openjdk-amd64/bin/jcmd to provide /usr/bin/jcmd (jcmd) in auto mode\n",
            "update-alternatives: using /usr/lib/jvm/java-8-openjdk-amd64/bin/jarsigner to provide /usr/bin/jarsigner (jarsigner) in auto mode\n",
            "update-alternatives: using /usr/lib/jvm/java-8-openjdk-amd64/bin/jmap to provide /usr/bin/jmap (jmap) in auto mode\n",
            "Processing triggers for libc-bin (2.26-0ubuntu2.1) ...\n",
            "Processing triggers for ca-certificates (20170717) ...\n",
            "Updating certificates in /etc/ssl/certs...\n",
            "0 added, 0 removed; done.\n",
            "Running hooks in /etc/ca-certificates/update.d...\n",
            "\n",
            "done.\n",
            "done.\n"
          ],
          "name": "stdout"
        }
      ]
    },
    {
      "cell_type": "code",
      "metadata": {
        "id": "SnSoE_OnXq84"
      },
      "source": [
        "import os\n",
        "os.environ[\"JAVA_HOME\"] = \"/usr/lib/jvm/java-8-openjdk-amd64\"\n",
        "os.environ[\"SPARK_HOME\"] = \"/content/spark-2.2.1-bin-hadoop2.7\""
      ],
      "execution_count": null,
      "outputs": []
    },
    {
      "cell_type": "code",
      "metadata": {
        "id": "R3qxYAx5YD89"
      },
      "source": [
        "import findspark\n",
        "findspark.init()\n",
        "from pyspark.sql import SparkSession\n",
        "spark = SparkSession.builder.master(\"local[*]\").getOrCreate()"
      ],
      "execution_count": null,
      "outputs": []
    },
    {
      "cell_type": "code",
      "metadata": {
        "id": "p7ZB8SgrYJxe"
      },
      "source": [
        "sc = spark.sparkContext"
      ],
      "execution_count": null,
      "outputs": []
    },
    {
      "cell_type": "code",
      "metadata": {
        "id": "Zi5xYhI_YOIf",
        "colab": {
          "base_uri": "https://localhost:8080/",
          "height": 193
        },
        "outputId": "ae4f2c43-eed3-495b-bebd-0508056278b9"
      },
      "source": [
        "sc"
      ],
      "execution_count": null,
      "outputs": [
        {
          "output_type": "execute_result",
          "data": {
            "text/html": [
              "\n",
              "        <div>\n",
              "            <p><b>SparkContext</b></p>\n",
              "\n",
              "            <p><a href=\"http://172.17.0.2:4040\">Spark UI</a></p>\n",
              "\n",
              "            <dl>\n",
              "              <dt>Version</dt>\n",
              "                <dd><code>v2.2.1</code></dd>\n",
              "              <dt>Master</dt>\n",
              "                <dd><code>local[*]</code></dd>\n",
              "              <dt>AppName</dt>\n",
              "                <dd><code>pyspark-shell</code></dd>\n",
              "            </dl>\n",
              "        </div>\n",
              "        "
            ],
            "text/plain": [
              "<SparkContext master=local[*] appName=pyspark-shell>"
            ]
          },
          "metadata": {
            "tags": []
          },
          "execution_count": 5
        }
      ]
    },
    {
      "cell_type": "code",
      "metadata": {
        "id": "Cp5hOs7SYTvy",
        "colab": {
          "base_uri": "https://localhost:8080/",
          "height": 102
        },
        "outputId": "422bf34a-d880-4991-e521-93895635e12e"
      },
      "source": [
        "!ls -l"
      ],
      "execution_count": null,
      "outputs": [
        {
          "output_type": "stream",
          "text": [
            "total 196244\r\n",
            "drwxr-xr-x  3 root root      4096 Jun 21 19:18 datalab\r\n",
            "drwxrwxr-x 12 1001 1001      4096 Nov 24  2017 spark-2.2.1-bin-hadoop2.7\r\n",
            "-rw-r--r--  1 root root 200934340 Nov 25  2017 spark-2.2.1-bin-hadoop2.7.tgz\r\n",
            "drwxr-xr-x  2 root root      4096 Jun 26 04:36 spark-warehouse\r\n"
          ],
          "name": "stdout"
        }
      ]
    },
    {
      "cell_type": "markdown",
      "metadata": {
        "id": "ejVmLi4KYvSC"
      },
      "source": [
        "## Reading the data from Local Disc"
      ]
    },
    {
      "cell_type": "code",
      "metadata": {
        "id": "-ML9jiFFYZBD",
        "colab": {
          "base_uri": "https://localhost:8080/",
          "height": 72
        },
        "outputId": "72adc51a-cab9-4eb5-c7e5-b47e69ae5388"
      },
      "source": [
        "from google.colab import files\n",
        "datafiles = files.upload()"
      ],
      "execution_count": null,
      "outputs": [
        {
          "output_type": "display_data",
          "data": {
            "text/html": [
              "\n",
              "     <input type=\"file\" id=\"files-114da356-16ac-4a8f-b932-13d494872ed1\" name=\"files[]\" multiple disabled />\n",
              "     <output id=\"result-114da356-16ac-4a8f-b932-13d494872ed1\">\n",
              "      Upload widget is only available when the cell has been executed in the\n",
              "      current browser session. Please rerun this cell to enable.\n",
              "      </output>\n",
              "      <script src=\"/nbextensions/google.colab/files.js\"></script> "
            ],
            "text/plain": [
              "<IPython.core.display.HTML object>"
            ]
          },
          "metadata": {
            "tags": []
          }
        },
        {
          "output_type": "stream",
          "text": [
            "Saving daily_show_guests.csv to daily_show_guests.csv\n"
          ],
          "name": "stdout"
        }
      ]
    },
    {
      "cell_type": "code",
      "metadata": {
        "id": "qPVG0RrBYkyH",
        "colab": {
          "base_uri": "https://localhost:8080/",
          "height": 119
        },
        "outputId": "22bef806-8d57-4931-acae-452ff9dd63f4"
      },
      "source": [
        "!ls -l"
      ],
      "execution_count": null,
      "outputs": [
        {
          "output_type": "stream",
          "text": [
            "total 196368\r\n",
            "-rw-r--r--  1 root root    126723 Jun 26 04:38 daily_show_guests.csv\r\n",
            "drwxr-xr-x  3 root root      4096 Jun 21 19:18 datalab\r\n",
            "drwxrwxr-x 12 1001 1001      4096 Nov 24  2017 spark-2.2.1-bin-hadoop2.7\r\n",
            "-rw-r--r--  1 root root 200934340 Nov 25  2017 spark-2.2.1-bin-hadoop2.7.tgz\r\n",
            "drwxr-xr-x  2 root root      4096 Jun 26 04:36 spark-warehouse\r\n"
          ],
          "name": "stdout"
        }
      ]
    },
    {
      "cell_type": "code",
      "metadata": {
        "id": "QF7yjLYEY_hl",
        "colab": {
          "base_uri": "https://localhost:8080/",
          "height": 102
        },
        "outputId": "a3df7989-92c9-4f7a-f239-10b8d69e99d3"
      },
      "source": [
        "text = sc.textFile(\"daily_show_guests.csv\")\n",
        "text.take(5)"
      ],
      "execution_count": null,
      "outputs": [
        {
          "output_type": "execute_result",
          "data": {
            "text/plain": [
              "['YEAR,GoogleKnowlege_Occupation,Show,Group,Raw_Guest_List',\n",
              " '1999,actor,1/11/99,Acting,Michael J. Fox',\n",
              " '1999,Comedian,1/12/99,Comedy,Sandra Bernhard',\n",
              " '1999,television actress,1/13/99,Acting,Tracey Ullman',\n",
              " '1999,film actress,1/14/99,Acting,Gillian Anderson']"
            ]
          },
          "metadata": {
            "tags": []
          },
          "execution_count": 15
        }
      ]
    },
    {
      "cell_type": "markdown",
      "metadata": {
        "id": "t5YGhN30aJ8I"
      },
      "source": [
        "## Using Map function we are seperating the data"
      ]
    },
    {
      "cell_type": "code",
      "metadata": {
        "id": "fuwaPOBZaUSz"
      },
      "source": [
        "daily_show = text.map(lambda line:line.split(','))"
      ],
      "execution_count": null,
      "outputs": []
    },
    {
      "cell_type": "code",
      "metadata": {
        "id": "k0mzhQgna6hk",
        "colab": {
          "base_uri": "https://localhost:8080/",
          "height": 102
        },
        "outputId": "d0b8f98c-50ca-4b58-d8bd-3d3a259461fa"
      },
      "source": [
        "daily_show.take(5)"
      ],
      "execution_count": null,
      "outputs": [
        {
          "output_type": "execute_result",
          "data": {
            "text/plain": [
              "[['YEAR', 'GoogleKnowlege_Occupation', 'Show', 'Group', 'Raw_Guest_List'],\n",
              " ['1999', 'actor', '1/11/99', 'Acting', 'Michael J. Fox'],\n",
              " ['1999', 'Comedian', '1/12/99', 'Comedy', 'Sandra Bernhard'],\n",
              " ['1999', 'television actress', '1/13/99', 'Acting', 'Tracey Ullman'],\n",
              " ['1999', 'film actress', '1/14/99', 'Acting', 'Gillian Anderson']]"
            ]
          },
          "metadata": {
            "tags": []
          },
          "execution_count": 14
        }
      ]
    },
    {
      "cell_type": "code",
      "metadata": {
        "id": "ZNAaBPuEbHj8",
        "colab": {
          "base_uri": "https://localhost:8080/",
          "height": 34
        },
        "outputId": "ec40e092-0a3b-411c-cd27-22e7fe8f002b"
      },
      "source": [
        "tally = daily_show.map(lambda x:(x[0],1)).reduceByKey(lambda x,y:x+y)\n",
        "tally.take(5)"
      ],
      "execution_count": null,
      "outputs": [
        {
          "output_type": "execute_result",
          "data": {
            "text/plain": [
              "[('YEAR', 1), ('2002', 159), ('2003', 166), ('2004', 164), ('2007', 141)]"
            ]
          },
          "metadata": {
            "tags": []
          },
          "execution_count": 18
        }
      ]
    },
    {
      "cell_type": "code",
      "metadata": {
        "id": "bJQXUxv5eTB8",
        "colab": {
          "base_uri": "https://localhost:8080/",
          "height": 323
        },
        "outputId": "4a6a91a3-77a8-46c5-9aed-124e349da13f"
      },
      "source": [
        "tally.take(tally.count())"
      ],
      "execution_count": null,
      "outputs": [
        {
          "output_type": "execute_result",
          "data": {
            "text/plain": [
              "[('YEAR', 1),\n",
              " ('2002', 159),\n",
              " ('2003', 166),\n",
              " ('2004', 164),\n",
              " ('2007', 141),\n",
              " ('2010', 165),\n",
              " ('2011', 163),\n",
              " ('2012', 164),\n",
              " ('2013', 166),\n",
              " ('2014', 163),\n",
              " ('2015', 100),\n",
              " ('1999', 166),\n",
              " ('2000', 169),\n",
              " ('2001', 157),\n",
              " ('2005', 162),\n",
              " ('2006', 161),\n",
              " ('2008', 164),\n",
              " ('2009', 163)]"
            ]
          },
          "metadata": {
            "tags": []
          },
          "execution_count": 19
        }
      ]
    },
    {
      "cell_type": "markdown",
      "metadata": {
        "id": "Qzf4N2XSgidt"
      },
      "source": [
        "## Removing the \"year\" from the existing RDD by using the \"Filter\" function"
      ]
    },
    {
      "cell_type": "code",
      "metadata": {
        "id": "JNN4B1pehFOU"
      },
      "source": [
        "def filter_year(line):\n",
        "  if line[0]=='year':\n",
        "    return False\n",
        "  else:\n",
        "    return True\n",
        "filtered_daily_show = daily_show.filter(lambda line: filter_year(line))"
      ],
      "execution_count": null,
      "outputs": []
    },
    {
      "cell_type": "code",
      "metadata": {
        "id": "i6-3x5_AicvC"
      },
      "source": [
        ""
      ],
      "execution_count": null,
      "outputs": []
    },
    {
      "cell_type": "markdown",
      "metadata": {
        "id": "KJx7PpFwkLon"
      },
      "source": [
        "## Doing everything in one single line code"
      ]
    },
    {
      "cell_type": "code",
      "metadata": {
        "id": "o19YbQAJkQ0L",
        "colab": {
          "base_uri": "https://localhost:8080/",
          "height": 102
        },
        "outputId": "6a3350bd-41ff-434a-cbdc-488d8b08b680"
      },
      "source": [
        "filtered_daily_show.filter(lambda line: line[1] != '') \\\n",
        "                   .map(lambda line: (line[1].lower(), 1)) \\\n",
        "                   .reduceByKey(lambda x,y: x+y) \\\n",
        "                   .take(5)\n"
      ],
      "execution_count": null,
      "outputs": [
        {
          "output_type": "execute_result",
          "data": {
            "text/plain": [
              "[('actor', 596),\n",
              " ('film actress', 21),\n",
              " ('model', 9),\n",
              " ('stand-up comedian', 44),\n",
              " ('actress', 271)]"
            ]
          },
          "metadata": {
            "tags": []
          },
          "execution_count": 25
        }
      ]
    },
    {
      "cell_type": "code",
      "metadata": {
        "id": "HShOFTLvkRe8"
      },
      "source": [
        ""
      ],
      "execution_count": null,
      "outputs": []
    }
  ]
}