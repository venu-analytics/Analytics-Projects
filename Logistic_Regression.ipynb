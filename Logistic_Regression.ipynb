{
  "nbformat": 4,
  "nbformat_minor": 0,
  "metadata": {
    "colab": {
      "name": "Logistic Regression.ipynb",
      "provenance": [],
      "collapsed_sections": [],
      "include_colab_link": true
    },
    "kernelspec": {
      "name": "python3",
      "display_name": "Python 3"
    }
  },
  "cells": [
    {
      "cell_type": "markdown",
      "metadata": {
        "id": "view-in-github",
        "colab_type": "text"
      },
      "source": [
        "<a href=\"https://colab.research.google.com/github/venu-analytics/Analytics-Projects/blob/main/Logistic_Regression.ipynb\" target=\"_parent\"><img src=\"https://colab.research.google.com/assets/colab-badge.svg\" alt=\"Open In Colab\"/></a>"
      ]
    },
    {
      "cell_type": "markdown",
      "metadata": {
        "id": "upXXvcD7Mmxf"
      },
      "source": [
        "## Initialisation"
      ]
    },
    {
      "cell_type": "code",
      "metadata": {
        "id": "J-UiPm6zDek-",
        "colab": {
          "base_uri": "https://localhost:8080/",
          "height": 102
        },
        "outputId": "4f421533-4d0d-4ecd-c3b5-020b90f35a24"
      },
      "source": [
        "!apt-get update\n",
        "!apt-get install openjdk-8-jdk-headless -qq > /dev/null\n",
        "!wget -q http://apache.osuosl.org/spark/spark-2.2.1/spark-2.2.1-bin-hadoop2.7.tgz\n",
        "!tar xf spark-2.2.1-bin-hadoop2.7.tgz\n",
        "!pip install -q findspark"
      ],
      "execution_count": null,
      "outputs": [
        {
          "output_type": "stream",
          "text": [
            "Hit:1 http://security.ubuntu.com/ubuntu artful-security InRelease\n",
            "Hit:2 http://archive.ubuntu.com/ubuntu artful InRelease\n",
            "Hit:3 http://archive.ubuntu.com/ubuntu artful-updates InRelease\n",
            "Hit:4 http://archive.ubuntu.com/ubuntu artful-backports InRelease\n",
            "Reading package lists... Done\n"
          ],
          "name": "stdout"
        }
      ]
    },
    {
      "cell_type": "code",
      "metadata": {
        "id": "ias-N39LEhpr"
      },
      "source": [
        "import os\n",
        "os.environ[\"JAVA_HOME\"] = \"/usr/lib/jvm/java-8-openjdk-amd64\"\n",
        "os.environ[\"SPARK_HOME\"] = \"/content/spark-2.2.1-bin-hadoop2.7\""
      ],
      "execution_count": null,
      "outputs": []
    },
    {
      "cell_type": "code",
      "metadata": {
        "id": "xLFzC6LzFFMf"
      },
      "source": [
        "import findspark\n",
        "findspark.init()\n",
        "from pyspark.sql import SparkSession\n",
        "spark = SparkSession.builder.master(\"local[*]\").getOrCreate()"
      ],
      "execution_count": null,
      "outputs": []
    },
    {
      "cell_type": "code",
      "metadata": {
        "id": "ndcwQ6gmFW5O",
        "colab": {
          "base_uri": "https://localhost:8080/",
          "height": 193
        },
        "outputId": "1f3a0c36-8a3b-430c-ff7c-dce5b3f80c24"
      },
      "source": [
        "sc = spark.sparkContext\n",
        "sc"
      ],
      "execution_count": null,
      "outputs": [
        {
          "output_type": "execute_result",
          "data": {
            "text/html": [
              "\n",
              "        <div>\n",
              "            <p><b>SparkContext</b></p>\n",
              "\n",
              "            <p><a href=\"http://172.17.0.2:4041\">Spark UI</a></p>\n",
              "\n",
              "            <dl>\n",
              "              <dt>Version</dt>\n",
              "                <dd><code>v2.2.1</code></dd>\n",
              "              <dt>Master</dt>\n",
              "                <dd><code>local[*]</code></dd>\n",
              "              <dt>AppName</dt>\n",
              "                <dd><code>pyspark-shell</code></dd>\n",
              "            </dl>\n",
              "        </div>\n",
              "        "
            ],
            "text/plain": [
              "<SparkContext master=local[*] appName=pyspark-shell>"
            ]
          },
          "metadata": {
            "tags": []
          },
          "execution_count": 4
        }
      ]
    },
    {
      "cell_type": "markdown",
      "metadata": {
        "id": "mKe3sH4VMtQl"
      },
      "source": [
        "## Loading the data"
      ]
    },
    {
      "cell_type": "code",
      "metadata": {
        "id": "GLtrCxKJFZHV"
      },
      "source": [
        "import urllib\n",
        "f = urllib.request.urlretrieve (\"http://kdd.ics.uci.edu/databases/kddcup99/kddcup.data_10_percent.gz\", \"kddcup.data_10_percent.gz\")"
      ],
      "execution_count": null,
      "outputs": []
    },
    {
      "cell_type": "code",
      "metadata": {
        "id": "6XmNUluoFdVr",
        "colab": {
          "base_uri": "https://localhost:8080/",
          "height": 34
        },
        "outputId": "9f8e5438-ba2b-4155-a35a-0fc7566f1736"
      },
      "source": [
        "data_file = \"./kddcup.data_10_percent.gz\"\n",
        "raw_data = sc.textFile(data_file)\n",
        "\n",
        "print (\"Train data size is {}\".format(raw_data.count()))"
      ],
      "execution_count": null,
      "outputs": [
        {
          "output_type": "stream",
          "text": [
            "Train data size is 494021\n"
          ],
          "name": "stdout"
        }
      ]
    },
    {
      "cell_type": "code",
      "metadata": {
        "id": "yjE-R3fcFf92"
      },
      "source": [
        "ft = urllib.request.urlretrieve(\"http://kdd.ics.uci.edu/databases/kddcup99/corrected.gz\", \"corrected.gz\")"
      ],
      "execution_count": null,
      "outputs": []
    },
    {
      "cell_type": "code",
      "metadata": {
        "id": "aIEZXE-8Fj9B",
        "colab": {
          "base_uri": "https://localhost:8080/",
          "height": 34
        },
        "outputId": "b6388ad2-c81e-43d2-a1cc-4fc27bbd8532"
      },
      "source": [
        "test_data_file = \"./corrected.gz\"\n",
        "test_raw_data = sc.textFile(test_data_file)\n",
        "\n",
        "print (\"Test data size is {}\".format(test_raw_data.count()))"
      ],
      "execution_count": null,
      "outputs": [
        {
          "output_type": "stream",
          "text": [
            "Test data size is 311029\n"
          ],
          "name": "stdout"
        }
      ]
    },
    {
      "cell_type": "markdown",
      "metadata": {
        "id": "MmM-KShPLFD_"
      },
      "source": [
        "## Preparing the Training Data"
      ]
    },
    {
      "cell_type": "code",
      "metadata": {
        "id": "DQKlBIgLHMfS"
      },
      "source": [
        "from pyspark.mllib.regression import LabeledPoint\n",
        "from numpy import array\n",
        "\n",
        "def parse_interaction(line):\n",
        "    line_split = line.split(\",\")\n",
        "    # leave_out = [1,2,3,41]\n",
        "    clean_line_split = line_split[0:1]+line_split[4:41]\n",
        "    attack = 1.0\n",
        "    if line_split[41]=='normal.':\n",
        "        attack = 0.0\n",
        "    return LabeledPoint(attack, array([float(x) for x in clean_line_split]))\n",
        "\n",
        "training_data = raw_data.map(parse_interaction)"
      ],
      "execution_count": null,
      "outputs": []
    },
    {
      "cell_type": "code",
      "metadata": {
        "id": "d923HfawLQ48"
      },
      "source": [
        "test_data = test_raw_data.map(parse_interaction)"
      ],
      "execution_count": null,
      "outputs": []
    },
    {
      "cell_type": "markdown",
      "metadata": {
        "id": "EXxgwZXwOWDh"
      },
      "source": [
        "## Training a Classifier"
      ]
    },
    {
      "cell_type": "code",
      "metadata": {
        "id": "ezAcfGD-M6AX",
        "colab": {
          "base_uri": "https://localhost:8080/",
          "height": 34
        },
        "outputId": "f6436278-9c72-49c5-9022-d7b0ac275507"
      },
      "source": [
        "from pyspark.mllib.classification import LogisticRegressionWithLBFGS\n",
        "from time import time\n",
        "\n",
        "# Build the model\n",
        "t0 = time()\n",
        "logit_model = LogisticRegressionWithLBFGS.train(training_data)\n",
        "tt = time() - t0\n",
        "\n",
        "print (\"Classifier trained in {} seconds\".format(round(tt,3)))"
      ],
      "execution_count": null,
      "outputs": [
        {
          "output_type": "stream",
          "text": [
            "Classifier trained in 69.584 seconds\n"
          ],
          "name": "stdout"
        }
      ]
    },
    {
      "cell_type": "markdown",
      "metadata": {
        "id": "2rMvIRqaM6qi"
      },
      "source": [
        "## Evaluating the model on new data"
      ]
    },
    {
      "cell_type": "code",
      "metadata": {
        "id": "0BMRNi31OoKZ"
      },
      "source": [
        "labels_and_preds = test_data.map(lambda p: (p.label, logit_model.predict(p.features)))"
      ],
      "execution_count": null,
      "outputs": []
    },
    {
      "cell_type": "code",
      "metadata": {
        "id": "YGD8jUDwPRvQ",
        "colab": {
          "base_uri": "https://localhost:8080/",
          "height": 34
        },
        "outputId": "1a2994b0-899e-476d-b907-9c562c61c979"
      },
      "source": [
        "t0 = time()\n",
        "test_accuracy = labels_and_preds.filter(lambda x : x[0] == x[1]).count() / float(test_data.count())\n",
        "tt = time() - t0\n",
        "\n",
        "print (\"Prediction made in \",round(tt,3),\" seconds. Test accuracy is \",round(test_accuracy,4))"
      ],
      "execution_count": null,
      "outputs": [
        {
          "output_type": "stream",
          "text": [
            "Prediction made in  13.403  seconds. Test accuracy is  0.9049\n"
          ],
          "name": "stdout"
        }
      ]
    },
    {
      "cell_type": "code",
      "metadata": {
        "id": "Wo4uifA8P8Cb"
      },
      "source": [
        "def parse_interaction_corr(line):\n",
        "    line_split = line.split(\",\")\n",
        "    # leave_out = [1,2,3,25,27,35,38,40,41]\n",
        "    clean_line_split = line_split[0:1]+line_split[4:25]+line_split[26:27]+line_split[28:35]+line_split[36:38]+line_split[39:40]\n",
        "    attack = 1.0\n",
        "    if line_split[41]=='normal.':\n",
        "        attack = 0.0\n",
        "    return LabeledPoint(attack, array([float(x) for x in clean_line_split]))\n",
        "\n",
        "corr_reduced_training_data = raw_data.map(parse_interaction_corr)\n",
        "corr_reduced_test_data = test_raw_data.map(parse_interaction_corr)"
      ],
      "execution_count": null,
      "outputs": []
    },
    {
      "cell_type": "code",
      "metadata": {
        "id": "CVGcKI2tQ4af",
        "colab": {
          "base_uri": "https://localhost:8080/",
          "height": 34
        },
        "outputId": "57f48b41-99d2-4ff5-f5e3-3f135a934870"
      },
      "source": [
        "# Build the model\n",
        "t0 = time()\n",
        "logit_model_2 = LogisticRegressionWithLBFGS.train(corr_reduced_training_data)\n",
        "tt = time() - t0\n",
        "\n",
        "print (\"Classifier trained in \",round(tt,3),\" seconds\")"
      ],
      "execution_count": null,
      "outputs": [
        {
          "output_type": "stream",
          "text": [
            "Classifier trained in  59.099  seconds\n"
          ],
          "name": "stdout"
        }
      ]
    },
    {
      "cell_type": "code",
      "metadata": {
        "id": "KSmog0F3d5K8",
        "colab": {
          "base_uri": "https://localhost:8080/",
          "height": 34
        },
        "outputId": "b4bfd59f-480f-4400-d69e-ae53ff4ee71b"
      },
      "source": [
        "t0 = time()\n",
        "labels_and_preds = corr_reduced_test_data.map(lambda p: (p.label, logit_model_2.predict(p.features)))\n",
        "tt = time() - t0\n",
        "test_accuracy = labels_and_preds.filter(lambda x: x[0] == x[1]).count() / float(corr_reduced_test_data.count())\n",
        "\n",
        "\n",
        "print (\"Prediction made in \",round(tt,3),\"seconds. Test accuracy is \",round(test_accuracy,4)) "
      ],
      "execution_count": null,
      "outputs": [
        {
          "output_type": "stream",
          "text": [
            "Prediction made in  0.0 seconds. Test accuracy is  0.8158\n"
          ],
          "name": "stdout"
        }
      ]
    },
    {
      "cell_type": "markdown",
      "metadata": {
        "id": "17tA31PLNI8E"
      },
      "source": [
        "## Using Hypothesis"
      ]
    },
    {
      "cell_type": "code",
      "metadata": {
        "id": "VmCdVYzCBAmm"
      },
      "source": [
        "feature_names = [\"land\",\"wrong_fragment\",\n",
        "             \"urgent\",\"hot\",\"num_failed_logins\",\"logged_in\",\"num_compromised\",\n",
        "             \"root_shell\",\"su_attempted\",\"num_root\",\"num_file_creations\",\n",
        "             \"num_shells\",\"num_access_files\",\"num_outbound_cmds\",\n",
        "             \"is_hot_login\",\"is_guest_login\",\"count\",\"srv_count\",\"serror_rate\",\n",
        "             \"srv_serror_rate\",\"rerror_rate\",\"srv_rerror_rate\",\"same_srv_rate\",\n",
        "             \"diff_srv_rate\",\"srv_diff_host_rate\",\"dst_host_count\",\"dst_host_srv_count\",\n",
        "             \"dst_host_same_srv_rate\",\"dst_host_diff_srv_rate\",\"dst_host_same_src_port_rate\",\n",
        "             \"dst_host_srv_diff_host_rate\",\"dst_host_serror_rate\",\"dst_host_srv_serror_rate\",\n",
        "             \"dst_host_rerror_rate\",\"dst_host_srv_rerror_rate\"]"
      ],
      "execution_count": null,
      "outputs": []
    },
    {
      "cell_type": "code",
      "metadata": {
        "id": "EVaby_oyBM-N"
      },
      "source": [
        "def parse_interaction_categorical(line):\n",
        "    line_split = line.split(\",\")\n",
        "    clean_line_split = line_split[6:41]\n",
        "    attack = 1.0\n",
        "    if line_split[41]=='normal.':\n",
        "        attack = 0.0\n",
        "    return LabeledPoint(attack, array([float(x) for x in clean_line_split]))"
      ],
      "execution_count": null,
      "outputs": []
    },
    {
      "cell_type": "code",
      "metadata": {
        "id": "MWhGSpbtBPwm"
      },
      "source": [
        "training_data_categorical = raw_data.map(parse_interaction_categorical)"
      ],
      "execution_count": null,
      "outputs": []
    },
    {
      "cell_type": "code",
      "metadata": {
        "id": "DMvz56rwBUmh",
        "colab": {
          "base_uri": "https://localhost:8080/",
          "height": 88
        },
        "outputId": "0d7df0aa-10aa-4cbd-d324-a5b149ef70e0"
      },
      "source": [
        "training_data_categorical.take(3)"
      ],
      "execution_count": null,
      "outputs": [
        {
          "output_type": "execute_result",
          "data": {
            "text/plain": [
              "[LabeledPoint(0.0, [0.0,0.0,0.0,0.0,0.0,1.0,0.0,0.0,0.0,0.0,0.0,0.0,0.0,0.0,0.0,0.0,8.0,8.0,0.0,0.0,0.0,0.0,1.0,0.0,0.0,9.0,9.0,1.0,0.0,0.11,0.0,0.0,0.0,0.0,0.0]),\n",
              " LabeledPoint(0.0, [0.0,0.0,0.0,0.0,0.0,1.0,0.0,0.0,0.0,0.0,0.0,0.0,0.0,0.0,0.0,0.0,8.0,8.0,0.0,0.0,0.0,0.0,1.0,0.0,0.0,19.0,19.0,1.0,0.0,0.05,0.0,0.0,0.0,0.0,0.0]),\n",
              " LabeledPoint(0.0, [0.0,0.0,0.0,0.0,0.0,1.0,0.0,0.0,0.0,0.0,0.0,0.0,0.0,0.0,0.0,0.0,8.0,8.0,0.0,0.0,0.0,0.0,1.0,0.0,0.0,29.0,29.0,1.0,0.0,0.03,0.0,0.0,0.0,0.0,0.0])]"
            ]
          },
          "metadata": {
            "tags": []
          },
          "execution_count": 20
        }
      ]
    },
    {
      "cell_type": "code",
      "metadata": {
        "id": "O23fMyM3BX_C"
      },
      "source": [
        "from pyspark.mllib.stat import Statistics\n",
        "\n",
        "chi = Statistics.chiSqTest(training_data_categorical)"
      ],
      "execution_count": null,
      "outputs": []
    },
    {
      "cell_type": "code",
      "metadata": {
        "id": "vBh63H4sBbWv",
        "colab": {
          "base_uri": "https://localhost:8080/",
          "height": 1134
        },
        "outputId": "32749439-c55f-48f8-8dab-eba821d3dfeb"
      },
      "source": [
        "import pandas as pd\n",
        "pd.set_option('display.max_colwidth', 30)\n",
        "\n",
        "records = [(result.statistic, result.pValue) for result in chi]\n",
        "\n",
        "chi_df = pd.DataFrame(data=records, index= feature_names, columns=[\"Statistic\",\"p-value\"])\n",
        "\n",
        "chi_df"
      ],
      "execution_count": null,
      "outputs": [
        {
          "output_type": "execute_result",
          "data": {
            "text/html": [
              "<div>\n",
              "<style scoped>\n",
              "    .dataframe tbody tr th:only-of-type {\n",
              "        vertical-align: middle;\n",
              "    }\n",
              "\n",
              "    .dataframe tbody tr th {\n",
              "        vertical-align: top;\n",
              "    }\n",
              "\n",
              "    .dataframe thead th {\n",
              "        text-align: right;\n",
              "    }\n",
              "</style>\n",
              "<table border=\"1\" class=\"dataframe\">\n",
              "  <thead>\n",
              "    <tr style=\"text-align: right;\">\n",
              "      <th></th>\n",
              "      <th>Statistic</th>\n",
              "      <th>p-value</th>\n",
              "    </tr>\n",
              "  </thead>\n",
              "  <tbody>\n",
              "    <tr>\n",
              "      <th>land</th>\n",
              "      <td>3.191410</td>\n",
              "      <td>7.402616e-02</td>\n",
              "    </tr>\n",
              "    <tr>\n",
              "      <th>wrong_fragment</th>\n",
              "      <td>304.309631</td>\n",
              "      <td>0.000000e+00</td>\n",
              "    </tr>\n",
              "    <tr>\n",
              "      <th>urgent</th>\n",
              "      <td>4.814020</td>\n",
              "      <td>1.859331e-01</td>\n",
              "    </tr>\n",
              "    <tr>\n",
              "      <th>hot</th>\n",
              "      <td>1939.879629</td>\n",
              "      <td>0.000000e+00</td>\n",
              "    </tr>\n",
              "    <tr>\n",
              "      <th>num_failed_logins</th>\n",
              "      <td>24.935016</td>\n",
              "      <td>1.434174e-04</td>\n",
              "    </tr>\n",
              "    <tr>\n",
              "      <th>logged_in</th>\n",
              "      <td>312455.306674</td>\n",
              "      <td>0.000000e+00</td>\n",
              "    </tr>\n",
              "    <tr>\n",
              "      <th>num_compromised</th>\n",
              "      <td>635.549407</td>\n",
              "      <td>0.000000e+00</td>\n",
              "    </tr>\n",
              "    <tr>\n",
              "      <th>root_shell</th>\n",
              "      <td>17.030507</td>\n",
              "      <td>3.678404e-05</td>\n",
              "    </tr>\n",
              "    <tr>\n",
              "      <th>su_attempted</th>\n",
              "      <td>39.839347</td>\n",
              "      <td>2.233550e-09</td>\n",
              "    </tr>\n",
              "    <tr>\n",
              "      <th>num_root</th>\n",
              "      <td>2277.286802</td>\n",
              "      <td>0.000000e+00</td>\n",
              "    </tr>\n",
              "    <tr>\n",
              "      <th>num_file_creations</th>\n",
              "      <td>821.828337</td>\n",
              "      <td>0.000000e+00</td>\n",
              "    </tr>\n",
              "    <tr>\n",
              "      <th>num_shells</th>\n",
              "      <td>149.023961</td>\n",
              "      <td>0.000000e+00</td>\n",
              "    </tr>\n",
              "    <tr>\n",
              "      <th>num_access_files</th>\n",
              "      <td>1753.117284</td>\n",
              "      <td>0.000000e+00</td>\n",
              "    </tr>\n",
              "    <tr>\n",
              "      <th>num_outbound_cmds</th>\n",
              "      <td>0.000000</td>\n",
              "      <td>1.000000e+00</td>\n",
              "    </tr>\n",
              "    <tr>\n",
              "      <th>is_hot_login</th>\n",
              "      <td>0.000000</td>\n",
              "      <td>1.000000e+00</td>\n",
              "    </tr>\n",
              "    <tr>\n",
              "      <th>is_guest_login</th>\n",
              "      <td>515.383504</td>\n",
              "      <td>0.000000e+00</td>\n",
              "    </tr>\n",
              "    <tr>\n",
              "      <th>count</th>\n",
              "      <td>438656.520829</td>\n",
              "      <td>0.000000e+00</td>\n",
              "    </tr>\n",
              "    <tr>\n",
              "      <th>srv_count</th>\n",
              "      <td>221348.426646</td>\n",
              "      <td>0.000000e+00</td>\n",
              "    </tr>\n",
              "    <tr>\n",
              "      <th>serror_rate</th>\n",
              "      <td>26650.209505</td>\n",
              "      <td>0.000000e+00</td>\n",
              "    </tr>\n",
              "    <tr>\n",
              "      <th>srv_serror_rate</th>\n",
              "      <td>30009.256774</td>\n",
              "      <td>0.000000e+00</td>\n",
              "    </tr>\n",
              "    <tr>\n",
              "      <th>rerror_rate</th>\n",
              "      <td>747.695493</td>\n",
              "      <td>0.000000e+00</td>\n",
              "    </tr>\n",
              "    <tr>\n",
              "      <th>srv_rerror_rate</th>\n",
              "      <td>2227.301678</td>\n",
              "      <td>0.000000e+00</td>\n",
              "    </tr>\n",
              "    <tr>\n",
              "      <th>same_srv_rate</th>\n",
              "      <td>39218.869964</td>\n",
              "      <td>0.000000e+00</td>\n",
              "    </tr>\n",
              "    <tr>\n",
              "      <th>diff_srv_rate</th>\n",
              "      <td>38481.946673</td>\n",
              "      <td>0.000000e+00</td>\n",
              "    </tr>\n",
              "    <tr>\n",
              "      <th>srv_diff_host_rate</th>\n",
              "      <td>135374.306837</td>\n",
              "      <td>0.000000e+00</td>\n",
              "    </tr>\n",
              "    <tr>\n",
              "      <th>dst_host_count</th>\n",
              "      <td>245057.453656</td>\n",
              "      <td>0.000000e+00</td>\n",
              "    </tr>\n",
              "    <tr>\n",
              "      <th>dst_host_srv_count</th>\n",
              "      <td>136994.054761</td>\n",
              "      <td>0.000000e+00</td>\n",
              "    </tr>\n",
              "    <tr>\n",
              "      <th>dst_host_same_srv_rate</th>\n",
              "      <td>120218.197644</td>\n",
              "      <td>0.000000e+00</td>\n",
              "    </tr>\n",
              "    <tr>\n",
              "      <th>dst_host_diff_srv_rate</th>\n",
              "      <td>129405.698322</td>\n",
              "      <td>0.000000e+00</td>\n",
              "    </tr>\n",
              "    <tr>\n",
              "      <th>dst_host_same_src_port_rate</th>\n",
              "      <td>285015.925542</td>\n",
              "      <td>0.000000e+00</td>\n",
              "    </tr>\n",
              "    <tr>\n",
              "      <th>dst_host_srv_diff_host_rate</th>\n",
              "      <td>221692.890239</td>\n",
              "      <td>0.000000e+00</td>\n",
              "    </tr>\n",
              "    <tr>\n",
              "      <th>dst_host_serror_rate</th>\n",
              "      <td>37825.124327</td>\n",
              "      <td>0.000000e+00</td>\n",
              "    </tr>\n",
              "    <tr>\n",
              "      <th>dst_host_srv_serror_rate</th>\n",
              "      <td>42916.904442</td>\n",
              "      <td>0.000000e+00</td>\n",
              "    </tr>\n",
              "    <tr>\n",
              "      <th>dst_host_rerror_rate</th>\n",
              "      <td>8805.320953</td>\n",
              "      <td>0.000000e+00</td>\n",
              "    </tr>\n",
              "    <tr>\n",
              "      <th>dst_host_srv_rerror_rate</th>\n",
              "      <td>21137.696659</td>\n",
              "      <td>0.000000e+00</td>\n",
              "    </tr>\n",
              "  </tbody>\n",
              "</table>\n",
              "</div>"
            ],
            "text/plain": [
              "                                 Statistic       p-value\n",
              "land                              3.191410  7.402616e-02\n",
              "wrong_fragment                  304.309631  0.000000e+00\n",
              "urgent                            4.814020  1.859331e-01\n",
              "hot                            1939.879629  0.000000e+00\n",
              "num_failed_logins                24.935016  1.434174e-04\n",
              "logged_in                    312455.306674  0.000000e+00\n",
              "num_compromised                 635.549407  0.000000e+00\n",
              "root_shell                       17.030507  3.678404e-05\n",
              "su_attempted                     39.839347  2.233550e-09\n",
              "num_root                       2277.286802  0.000000e+00\n",
              "num_file_creations              821.828337  0.000000e+00\n",
              "num_shells                      149.023961  0.000000e+00\n",
              "num_access_files               1753.117284  0.000000e+00\n",
              "num_outbound_cmds                 0.000000  1.000000e+00\n",
              "is_hot_login                      0.000000  1.000000e+00\n",
              "is_guest_login                  515.383504  0.000000e+00\n",
              "count                        438656.520829  0.000000e+00\n",
              "srv_count                    221348.426646  0.000000e+00\n",
              "serror_rate                   26650.209505  0.000000e+00\n",
              "srv_serror_rate               30009.256774  0.000000e+00\n",
              "rerror_rate                     747.695493  0.000000e+00\n",
              "srv_rerror_rate                2227.301678  0.000000e+00\n",
              "same_srv_rate                 39218.869964  0.000000e+00\n",
              "diff_srv_rate                 38481.946673  0.000000e+00\n",
              "srv_diff_host_rate           135374.306837  0.000000e+00\n",
              "dst_host_count               245057.453656  0.000000e+00\n",
              "dst_host_srv_count           136994.054761  0.000000e+00\n",
              "dst_host_same_srv_rate       120218.197644  0.000000e+00\n",
              "dst_host_diff_srv_rate       129405.698322  0.000000e+00\n",
              "dst_host_same_src_port_rate  285015.925542  0.000000e+00\n",
              "dst_host_srv_diff_host_rate  221692.890239  0.000000e+00\n",
              "dst_host_serror_rate          37825.124327  0.000000e+00\n",
              "dst_host_srv_serror_rate      42916.904442  0.000000e+00\n",
              "dst_host_rerror_rate           8805.320953  0.000000e+00\n",
              "dst_host_srv_rerror_rate      21137.696659  0.000000e+00"
            ]
          },
          "metadata": {
            "tags": []
          },
          "execution_count": 22
        }
      ]
    },
    {
      "cell_type": "code",
      "metadata": {
        "id": "IeTlUunpBg4X"
      },
      "source": [
        "def parse_interaction_chi(line):\n",
        "    line_split = line.split(\",\")\n",
        "    # leave_out = [1,2,3,6,19,41]\n",
        "    clean_line_split = line_split[0:1] + line_split[4:6] + line_split[7:19] + line_split[20:41]\n",
        "    attack = 1.0\n",
        "    if line_split[41]=='normal.':\n",
        "        attack = 0.0\n",
        "    return LabeledPoint(attack, array([float(x) for x in clean_line_split]))"
      ],
      "execution_count": null,
      "outputs": []
    },
    {
      "cell_type": "code",
      "metadata": {
        "id": "Wv69qalgBnGN"
      },
      "source": [
        "training_data_chi = raw_data.map(parse_interaction_chi)\n",
        "test_data_chi = test_raw_data.map(parse_interaction_chi)"
      ],
      "execution_count": null,
      "outputs": []
    },
    {
      "cell_type": "code",
      "metadata": {
        "id": "zJnze0WdBqIb",
        "colab": {
          "base_uri": "https://localhost:8080/",
          "height": 34
        },
        "outputId": "a8d3aee4-c728-48ce-e657-f6edd69fc06e"
      },
      "source": [
        "# Build the model\n",
        "t0 = time()\n",
        "logit_model_chi = LogisticRegressionWithLBFGS.train(training_data_chi)\n",
        "tt = time() - t0\n",
        "\n",
        "print (\"Classifier trained in \",round(tt,3),\" seconds\")"
      ],
      "execution_count": null,
      "outputs": [
        {
          "output_type": "stream",
          "text": [
            "Classifier trained in  62.37  seconds\n"
          ],
          "name": "stdout"
        }
      ]
    },
    {
      "cell_type": "code",
      "metadata": {
        "id": "GH5IiVnPBs7z",
        "colab": {
          "base_uri": "https://localhost:8080/",
          "height": 34
        },
        "outputId": "d1b80afd-94c9-4374-fe8e-edd7b70c3473"
      },
      "source": [
        "t0 = time()\n",
        "labels_and_preds = test_data_chi.map(lambda p: (p.label, logit_model_chi.predict(p.features)))\n",
        "tt = time() - t0\n",
        "test_accuracy = labels_and_preds.filter(lambda x: x[0] == x[1]).count() / float(test_data_chi.count())\n",
        "\n",
        "print (\"Prediction made in \",round(tt,3),\" seconds. Test accuracy is \", round(test_accuracy,4))"
      ],
      "execution_count": null,
      "outputs": [
        {
          "output_type": "stream",
          "text": [
            "Prediction made in  0.0  seconds. Test accuracy is  0.9031\n"
          ],
          "name": "stdout"
        }
      ]
    },
    {
      "cell_type": "code",
      "metadata": {
        "id": "9W8nPzygByCt"
      },
      "source": [
        ""
      ],
      "execution_count": null,
      "outputs": []
    }
  ]
}